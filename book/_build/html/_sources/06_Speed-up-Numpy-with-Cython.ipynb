{
 "cells": [
  {
   "cell_type": "markdown",
   "id": "f47a5e7f",
   "metadata": {},
   "source": [
    "# How to speed up Numpy with Cython"
   ]
  },
  {
   "cell_type": "markdown",
   "id": "e22390ca",
   "metadata": {},
   "source": [
    "## Introduce\n",
    "**This article will describe how to use Cython to speed up numpy.**\n",
    "\n",
    "The original code using Nump is as follows, it truncates array_1 with the interval [2, 10] via np.clip. After that, we do some simple arithmetic with array_1, array_2 and a, b and c, and finally return the result of the calculation."
   ]
  },
  {
   "cell_type": "code",
   "execution_count": 1,
   "id": "20f08e5f",
   "metadata": {},
   "outputs": [],
   "source": [
    "def compute_np(array_1, array_2, a, b, c):\n",
    "     return np.clip(array_1, 2, 10) * a + array_2 * b + c"
   ]
  },
  {
   "cell_type": "markdown",
   "id": "8e9e98b5",
   "metadata": {},
   "source": [
    "## Generating random arrays\n",
    "**This is the prefix for all the code below, please run this prefix before running the program below.**\n",
    "\n",
    "It will generate two random two-dimensional arrays and set the values of a,b,c. To make it easier to compare the speed of the runs later, the dimension of the arrays generated here is set larger, to (3000x2000)."
   ]
  },
  {
   "cell_type": "code",
   "execution_count": 2,
   "id": "5b148c75",
   "metadata": {},
   "outputs": [],
   "source": [
    "import numpy as np\n",
    "\n",
    "array_1 = np.random.uniform(0, 100, size=(3000, 2000)).astype(np.intc)\n",
    "array_2 = np.random.uniform(0, 100, size=(3000, 2000)).astype(np.intc)\n",
    "a = 4\n",
    "b = 3\n",
    "c = 9"
   ]
  },
  {
   "cell_type": "markdown",
   "id": "8c0a79c1",
   "metadata": {},
   "source": [
    "## The code for the Nump\n",
    "\n",
    "**The following code is executed by numpy.**\n",
    "\n",
    "Here we name the function compute_np. We use timeit here to show how fast it runs, and to be more precise we calculate the average of its ten runs and record this length of time at the end with compute_np_time."
   ]
  },
  {
   "cell_type": "code",
   "execution_count": 3,
   "id": "66d7bd33",
   "metadata": {},
   "outputs": [
    {
     "name": "stdout",
     "output_type": "stream",
     "text": [
      "[[ 85 127 241 ... 328  52 160]\n",
      " [196 160 343 ... 286 127 280]\n",
      " [169 109  94 ... 175 214 222]\n",
      " ...\n",
      " [253 163 325 ...  94 259 229]\n",
      " [133 308 190 ... 325 151 202]\n",
      " [178 331 281 ...  52 124 263]]\n",
      "compute_np execution time: 0.05866470000000845\n"
     ]
    }
   ],
   "source": [
    "import timeit\n",
    "\n",
    "def compute_np(array_1, array_2, a, b, c):\n",
    "     return np.clip(array_1, 2, 10) * a + array_2 * b + c\n",
    "\n",
    "print(compute_np(array_1, array_2, a, b, c))\n",
    "\n",
    "compute_np_time = timeit.timeit(lambda: compute_np(array_1, array_2, a, b, c), number=10)/10\n",
    "\n",
    "print(\"compute_np execution time:\", compute_np_time)"
   ]
  },
  {
   "cell_type": "markdown",
   "id": "410e3df2",
   "metadata": {},
   "source": [
    "## The code for pure Python"
   ]
  },
  {
   "cell_type": "markdown",
   "id": "6708b3d1",
   "metadata": {},
   "source": [
    "**For numpy form, which cannot be translated directly into cython form, we first need to expand it into pure python form.**\n",
    "\n",
    "Expands the above code into a pure python function. It loops through two dimensions for each element in array_1 and finally combines them together. This means that a new object needs to be assigned to each element used.Let's call it compute_py"
   ]
  },
  {
   "cell_type": "code",
   "execution_count": 4,
   "id": "f7bde3d0",
   "metadata": {
    "scrolled": true
   },
   "outputs": [
    {
     "name": "stdout",
     "output_type": "stream",
     "text": [
      "[[ 85 127 241 ... 328  52 160]\n",
      " [196 160 343 ... 286 127 280]\n",
      " [169 109  94 ... 175 214 222]\n",
      " ...\n",
      " [253 163 325 ...  94 259 229]\n",
      " [133 308 190 ... 325 151 202]\n",
      " [178 331 281 ...  52 124 263]]\n",
      "compute_py execution time: 10.784624809999878\n"
     ]
    }
   ],
   "source": [
    "def clip(a, min_value, max_value):\n",
    "    return min(max(a, min_value), max_value)\n",
    "\n",
    "def compute_py(array_1, array_2, a, b, c):\n",
    "\n",
    "    x_max = array_1.shape[0]\n",
    "    y_max = array_1.shape[1]\n",
    "\n",
    "    assert array_1.shape == array_2.shape\n",
    "\n",
    "    result = np.zeros((x_max, y_max), dtype=array_1.dtype)\n",
    "\n",
    "    for x in range(x_max):\n",
    "        for y in range(y_max):\n",
    "            tmp = clip(array_1[x, y], 2, 10)\n",
    "            tmp = tmp * a + array_2[x, y] * b\n",
    "            result[x, y] = tmp + c\n",
    "\n",
    "    return result\n",
    "\n",
    "print(compute_py(array_1, array_2, a, b, c))\n",
    "\n",
    "compute_py_time = timeit.timeit(lambda: compute_py(array_1, array_2, a, b, c), number=10)/10\n",
    "\n",
    "print(\"compute_py execution time:\", compute_py_time)"
   ]
  },
  {
   "cell_type": "markdown",
   "id": "a49d36ce",
   "metadata": {},
   "source": [
    "### Compare\n",
    "\n",
    "Now, we can compare the speed of these two methods.\n",
    "\n",
    "It is clear that the pure python is much slower than numpy."
   ]
  },
  {
   "cell_type": "code",
   "execution_count": 5,
   "id": "03cf4ebc",
   "metadata": {},
   "outputs": [
    {
     "data": {
      "text/html": [
       "<style type=\"text/css\">\n",
       "#T_53ec3 table {\n",
       "  border-collapse: collapse;\n",
       "}\n",
       "#T_53ec3 th {\n",
       "  border: 1px solid black;\n",
       "}\n",
       "#T_53ec3  td {\n",
       "  border: 1px solid black;\n",
       "}\n",
       "#T_53ec3_row0_col0, #T_53ec3_row0_col1, #T_53ec3_row0_col2, #T_53ec3_row1_col0, #T_53ec3_row1_col1, #T_53ec3_row1_col2 {\n",
       "  border: 1px solid black;\n",
       "}\n",
       "</style>\n",
       "<table id=\"T_53ec3\">\n",
       "  <thead>\n",
       "    <tr>\n",
       "      <th class=\"blank level0\" >&nbsp;</th>\n",
       "      <th id=\"T_53ec3_level0_col0\" class=\"col_heading level0 col0\" >Methods</th>\n",
       "      <th id=\"T_53ec3_level0_col1\" class=\"col_heading level0 col1\" >Speed(s)</th>\n",
       "      <th id=\"T_53ec3_level0_col2\" class=\"col_heading level0 col2\" >Percentage(%)</th>\n",
       "    </tr>\n",
       "  </thead>\n",
       "  <tbody>\n",
       "    <tr>\n",
       "      <th id=\"T_53ec3_level0_row0\" class=\"row_heading level0 row0\" >0</th>\n",
       "      <td id=\"T_53ec3_row0_col0\" class=\"data row0 col0\" >Numpy</td>\n",
       "      <td id=\"T_53ec3_row0_col1\" class=\"data row0 col1\" >0.058665</td>\n",
       "      <td id=\"T_53ec3_row0_col2\" class=\"data row0 col2\" >100.000000</td>\n",
       "    </tr>\n",
       "    <tr>\n",
       "      <th id=\"T_53ec3_level0_row1\" class=\"row_heading level0 row1\" >1</th>\n",
       "      <td id=\"T_53ec3_row1_col0\" class=\"data row1 col0\" >Pure Python</td>\n",
       "      <td id=\"T_53ec3_row1_col1\" class=\"data row1 col1\" >10.784625</td>\n",
       "      <td id=\"T_53ec3_row1_col2\" class=\"data row1 col2\" >0.543966</td>\n",
       "    </tr>\n",
       "  </tbody>\n",
       "</table>\n"
      ],
      "text/plain": [
       "<IPython.core.display.HTML object>"
      ]
     },
     "execution_count": 5,
     "metadata": {},
     "output_type": "execute_result"
    }
   ],
   "source": [
    "import pandas as pd\n",
    "from IPython.display import HTML\n",
    "\n",
    "data = {\n",
    "    'Methods': ['Numpy', 'Pure Python'],\n",
    "    'Speed(s)': [compute_np_time, compute_py_time],\n",
    "    'Percentage(%)': [100, compute_np_time/compute_py_time*100]\n",
    "}\n",
    "df = pd.DataFrame(data)\n",
    "\n",
    "# Creating style functions\n",
    "def add_border(val):\n",
    "    return 'border: 1px solid black'\n",
    "\n",
    "# Applying style functions to data boxes\n",
    "styled_df = df.style.applymap(add_border)\n",
    "\n",
    "# Defining CSS styles\n",
    "table_style = [\n",
    "    {'selector': 'table', 'props': [('border-collapse', 'collapse')]},\n",
    "    {'selector': 'th, td', 'props': [('border', '1px solid black')]}\n",
    "]\n",
    "\n",
    "# Adding styles to stylised data boxes\n",
    "styled_df.set_table_styles(table_style)\n",
    "\n",
    "# Displaying stylised data boxes in Jupyter Notebook\n",
    "HTML(styled_df.to_html())"
   ]
  },
  {
   "cell_type": "markdown",
   "id": "3a5cf386",
   "metadata": {},
   "source": [
    "## The code for Cython"
   ]
  },
  {
   "cell_type": "markdown",
   "id": "998d281b",
   "metadata": {},
   "source": [
    "### Cython\n",
    "Pure Python is also valid Cython code, so the same code can run in cython"
   ]
  },
  {
   "cell_type": "code",
   "execution_count": 6,
   "id": "7e4ba146",
   "metadata": {},
   "outputs": [],
   "source": [
    "%load_ext cython"
   ]
  },
  {
   "cell_type": "code",
   "execution_count": 7,
   "id": "31fb3e86",
   "metadata": {},
   "outputs": [
    {
     "name": "stdout",
     "output_type": "stream",
     "text": [
      "[[205  70 121 ... 130  64 304]\n",
      " [169 262  85 ... 295 232 181]\n",
      " [338 346  79 ... 295 100 139]\n",
      " ...\n",
      " [241 301 166 ... 193 235 289]\n",
      " [120 205 105 ... 223  85 103]\n",
      " [178  70  94 ... 109 130  55]]\n",
      "compute_cy execution time: 8.321111910000036\n"
     ]
    }
   ],
   "source": [
    "%%cython\n",
    "import numpy as np\n",
    "import timeit\n",
    "\n",
    "array_1 = np.random.uniform(0, 100, size=(3000, 2000)).astype(np.intc)\n",
    "array_2 = np.random.uniform(0, 100, size=(3000, 2000)).astype(np.intc)\n",
    "a = 4\n",
    "b = 3\n",
    "c = 9\n",
    "\n",
    "def clip(a, min_value, max_value):\n",
    "    return min(max(a, min_value), max_value)\n",
    "\n",
    "def compute_cy(array_1, array_2, a, b, c):\n",
    "\n",
    "    x_max = array_1.shape[0]\n",
    "    y_max = array_1.shape[1]\n",
    "\n",
    "    assert array_1.shape == array_2.shape\n",
    "\n",
    "    result = np.zeros((x_max, y_max), dtype=array_1.dtype)\n",
    "\n",
    "    for x in range(x_max):\n",
    "        for y in range(y_max):\n",
    "            tmp = clip(array_1[x, y], 2, 10)\n",
    "            tmp = tmp * a + array_2[x, y] * b\n",
    "            result[x, y] = tmp + c\n",
    "\n",
    "    return result\n",
    "\n",
    "print(compute_cy(array_1, array_2, a, b, c))\n",
    "\n",
    "compute_cy_time = timeit.timeit(lambda: compute_cy(array_1, array_2, a, b, c), number=10)/10\n",
    "\n",
    "print(\"compute_cy execution time:\", compute_cy_time)"
   ]
  },
  {
   "cell_type": "markdown",
   "id": "d8f97f9d",
   "metadata": {},
   "source": [
    "#### Compare\n",
    "\n",
    "Because the C code still does exactly what the Python interpreter does, there's not much of a difference in speed."
   ]
  },
  {
   "cell_type": "code",
   "execution_count": 8,
   "id": "633e15f6",
   "metadata": {},
   "outputs": [
    {
     "data": {
      "text/html": [
       "<style type=\"text/css\">\n",
       "#T_873e0 table {\n",
       "  border-collapse: collapse;\n",
       "}\n",
       "#T_873e0 th {\n",
       "  border: 1px solid black;\n",
       "}\n",
       "#T_873e0  td {\n",
       "  border: 1px solid black;\n",
       "}\n",
       "#T_873e0_row0_col0, #T_873e0_row0_col1, #T_873e0_row0_col2, #T_873e0_row1_col0, #T_873e0_row1_col1, #T_873e0_row1_col2, #T_873e0_row2_col0, #T_873e0_row2_col1, #T_873e0_row2_col2 {\n",
       "  border: 1px solid black;\n",
       "}\n",
       "</style>\n",
       "<table id=\"T_873e0\">\n",
       "  <thead>\n",
       "    <tr>\n",
       "      <th class=\"blank level0\" >&nbsp;</th>\n",
       "      <th id=\"T_873e0_level0_col0\" class=\"col_heading level0 col0\" >Methods</th>\n",
       "      <th id=\"T_873e0_level0_col1\" class=\"col_heading level0 col1\" >Speed(s)</th>\n",
       "      <th id=\"T_873e0_level0_col2\" class=\"col_heading level0 col2\" >Percentage(%)</th>\n",
       "    </tr>\n",
       "  </thead>\n",
       "  <tbody>\n",
       "    <tr>\n",
       "      <th id=\"T_873e0_level0_row0\" class=\"row_heading level0 row0\" >0</th>\n",
       "      <td id=\"T_873e0_row0_col0\" class=\"data row0 col0\" >Numpy</td>\n",
       "      <td id=\"T_873e0_row0_col1\" class=\"data row0 col1\" >0.058665</td>\n",
       "      <td id=\"T_873e0_row0_col2\" class=\"data row0 col2\" >100.000000</td>\n",
       "    </tr>\n",
       "    <tr>\n",
       "      <th id=\"T_873e0_level0_row1\" class=\"row_heading level0 row1\" >1</th>\n",
       "      <td id=\"T_873e0_row1_col0\" class=\"data row1 col0\" >Pure Python</td>\n",
       "      <td id=\"T_873e0_row1_col1\" class=\"data row1 col1\" >10.784625</td>\n",
       "      <td id=\"T_873e0_row1_col2\" class=\"data row1 col2\" >0.543966</td>\n",
       "    </tr>\n",
       "    <tr>\n",
       "      <th id=\"T_873e0_level0_row2\" class=\"row_heading level0 row2\" >2</th>\n",
       "      <td id=\"T_873e0_row2_col0\" class=\"data row2 col0\" >Cython</td>\n",
       "      <td id=\"T_873e0_row2_col1\" class=\"data row2 col1\" >8.321112</td>\n",
       "      <td id=\"T_873e0_row2_col2\" class=\"data row2 col2\" >0.705010</td>\n",
       "    </tr>\n",
       "  </tbody>\n",
       "</table>\n"
      ],
      "text/plain": [
       "<IPython.core.display.HTML object>"
      ]
     },
     "execution_count": 8,
     "metadata": {},
     "output_type": "execute_result"
    }
   ],
   "source": [
    "import pandas as pd\n",
    "\n",
    "data = {\n",
    "    'Methods': ['Numpy', 'Pure Python','Cython'],\n",
    "    'Speed(s)': [compute_np_time, compute_py_time, compute_cy_time],\n",
    "    'Percentage(%)': [100, compute_np_time/compute_py_time*100,compute_np_time/compute_cy_time*100]\n",
    "}\n",
    "df = pd.DataFrame(data)\n",
    "\n",
    "# Creating style functions\n",
    "def add_border(val):\n",
    "    return 'border: 1px solid black'\n",
    "\n",
    "# Applying style functions to data boxes\n",
    "styled_df = df.style.applymap(add_border)\n",
    "\n",
    "# Defining CSS styles\n",
    "table_style = [\n",
    "    {'selector': 'table', 'props': [('border-collapse', 'collapse')]},\n",
    "    {'selector': 'th, td', 'props': [('border', '1px solid black')]}\n",
    "]\n",
    "\n",
    "# Adding styles to stylised data boxes\n",
    "styled_df.set_table_styles(table_style)\n",
    "\n",
    "# Displaying stylised data boxes in Jupyter Notebook\n",
    "HTML(styled_df.to_html())"
   ]
  },
  {
   "cell_type": "markdown",
   "id": "26aff4e2",
   "metadata": {},
   "source": [
    "#### Check\n",
    "\n",
    "We can use %%cython -a, to generate html files.\n",
    "\n",
    "As shown below, if a line is white, it means that the code generated doesn’t interact with Python, so will run as fast as normal C code. The darker the yellow, the more Python interaction there is in that line. Those yellow lines will usually operate on Python objects, raise exceptions, or do other kinds of higher-level operations than what can easily be translated into simple and fast C code.\n",
    "\n",
    "So we can use it to check our code, and it lets us know what lines to improve so that it can run as fast as C."
   ]
  },
  {
   "cell_type": "markdown",
   "id": "2a6415b6",
   "metadata": {},
   "source": [
    "![图片描述](image_folder/Speed_up_Numpy_with_Cython_image_01.png)"
   ]
  },
  {
   "cell_type": "markdown",
   "id": "3c70e62a",
   "metadata": {},
   "source": [
    "### Add Types\n",
    "\n",
    "The first thing we need to do is define the type, we named it **compute_cy_t**. This means that the object passed will be converted to a C type.\n",
    "\n",
    "With the results we can see that the speed has improved compared to the previous."
   ]
  },
  {
   "cell_type": "code",
   "execution_count": 10,
   "id": "db2130f8",
   "metadata": {},
   "outputs": [
    {
     "name": "stdout",
     "output_type": "stream",
     "text": [
      "[[100 250 319 ...  63 334 283]\n",
      " [191 250 172 ... 346 136 240]\n",
      " [298 337 281 ... 139 106 115]\n",
      " ...\n",
      " [238  97 166 ...  73  70 250]\n",
      " [127 289 226 ... 196  73 256]\n",
      " [109 217 163 ...  21  41 160]]\n",
      "compute_cy_t execution time: 5.123431210000126\n"
     ]
    }
   ],
   "source": [
    "%%cython --compile-args=-O3\n",
    "\n",
    "import numpy as np\n",
    "import timeit\n",
    "\n",
    "array_1 = np.random.uniform(0, 100, size=(3000, 2000)).astype(np.intc)\n",
    "array_2 = np.random.uniform(0, 100, size=(3000, 2000)).astype(np.intc)\n",
    "a = 4\n",
    "b = 3\n",
    "c = 9\n",
    "\n",
    "DTYPE = np.intc   # numpy.intc ---- int. Otherwise,they are implicitly typed as Python objects\n",
    "\n",
    "cdef int clip(int a, int min_value, int max_value):\n",
    "    return min(max(a, min_value), max_value)\n",
    "\n",
    "\n",
    "def compute_cy_t(array_1, array_2, int a, int b, int c):\n",
    "    cdef Py_ssize_t x_max = array_1.shape[0]\n",
    "    cdef Py_ssize_t y_max = array_1.shape[1]\n",
    "    \n",
    "    assert array_1.shape == array_2.shape\n",
    "    assert array_1.dtype == DTYPE\n",
    "    assert array_2.dtype == DTYPE\n",
    "\n",
    "    result = np.zeros((x_max, y_max), dtype=DTYPE)\n",
    "    \n",
    "    cdef int tmp\n",
    "\n",
    "    cdef Py_ssize_t x, y\n",
    "\n",
    "    for x in range(x_max):\n",
    "        for y in range(y_max):\n",
    "\n",
    "            tmp = clip(array_1[x, y], 2, 10)\n",
    "            tmp = tmp * a + array_2[x, y] * b\n",
    "            result[x, y] = tmp + c\n",
    "\n",
    "    return result\n",
    "\n",
    "print(compute_cy_t(array_1, array_2, a, b, c))\n",
    "\n",
    "compute_cy_t_time = timeit.timeit(lambda: compute_cy_t(array_1, array_2, a, b, c), number=10)/10\n",
    "\n",
    "print(\"compute_cy_t execution time:\", compute_cy_t_time)"
   ]
  },
  {
   "cell_type": "markdown",
   "id": "ef578c53",
   "metadata": {},
   "source": [
    "### Efficient indexing with memoryviews\n",
    "\n",
    "Adding types does make the code faster, but not nearly as fast as Numpy.\n",
    "\n",
    "array_1 and array_2 are still NumPy arrays, so Python objects, and expect Python integers as indexes.\n",
    "```\n",
    "tmp = clip(array_1[x, y], 2, 10)\\\n",
    "tmp = tmp * a + array_2[x, y] * b\n",
    "result[x, y] = tmp + c\n",
    "```\n",
    "Here we pass C int values. So every time Cython reaches this line, it has to convert all the C integers to Python int objects. Since this line is called very often, it outweighs the speed benefits of the pure C loops that were created from the range() earlier.\n",
    "\n",
    "Furthermore, tmp * a + array_2[x, y] * b returns a Python integer and tmp is a C integer, so Cython has to do type conversions again. In the end those types conversions add up. And made our computation really slow. But this problem can be solved easily by using memoryviews.\n",
    "\n",
    "memoryviews are C structures that can hold a pointer to the data of a NumPy array and all the necessary buffer metadata to provide efficient and safe access: dimensions, strides, item size, item type information, etc… They also support slices, so they work even if the NumPy array isn’t contiguous in memory. They can be indexed by C integers, thus allowing fast access to the NumPy array data.\n",
    "\n",
    "Here is how to declare a memoryview of integers:\n",
    "```\n",
    "cdef int [:] foo         # 1D memoryview\n",
    "cdef int [:, :] foo      # 2D memoryview\n",
    "cdef int [:, :, :] foo   # 3D memoryview\n",
    "```\n",
    "Here is how to use them in our code,we named it **compute_cy_m**:"
   ]
  },
  {
   "cell_type": "code",
   "execution_count": 11,
   "id": "4291f0ac",
   "metadata": {},
   "outputs": [
    {
     "name": "stdout",
     "output_type": "stream",
     "text": [
      "[[235 173 139 ... 133  82 286]\n",
      " [301 322 256 ...  91  36 235]\n",
      " [343  85 235 ... 317 283 190]\n",
      " ...\n",
      " [ 55  76 253 ... 193 217 235]\n",
      " [292 238 292 ... 199 103 301]\n",
      " [133 124 289 ...  68 232 310]]\n",
      "compute_cy_m execution time: 0.037777249999999186\n"
     ]
    }
   ],
   "source": [
    "%%cython\n",
    "\n",
    "import numpy as np\n",
    "import timeit\n",
    "\n",
    "array_1 = np.random.uniform(0, 100, size=(3000, 2000)).astype(np.intc)\n",
    "array_2 = np.random.uniform(0, 100, size=(3000, 2000)).astype(np.intc)\n",
    "a = 4\n",
    "b = 3\n",
    "c = 9\n",
    "\n",
    "DTYPE = np.intc   # numpy.intc ---- int. Otherwise,they are implicitly typed as Python objects\n",
    "\n",
    "cdef int clip(int a, int min_value, int max_value):\n",
    "    return min(max(a, min_value), max_value)\n",
    "\n",
    "def compute_cy_m(int[:, :] array_1, int[:, :] array_2, int a, int b, int c):\n",
    "     \n",
    "    cdef Py_ssize_t x_max = array_1.shape[0]\n",
    "    cdef Py_ssize_t y_max = array_1.shape[1]\n",
    "\n",
    "    assert tuple(array_1.shape) == tuple(array_2.shape)\n",
    "\n",
    "    result = np.zeros((x_max, y_max), dtype=DTYPE)\n",
    "    cdef int[:, :] result_view = result\n",
    "\n",
    "    cdef int tmp\n",
    "    cdef Py_ssize_t x, y\n",
    "\n",
    "    for x in range(x_max):\n",
    "        for y in range(y_max):\n",
    "\n",
    "            tmp = clip(array_1[x, y], 2, 10)\n",
    "            tmp = tmp * a + array_2[x, y] * b\n",
    "            result_view[x, y] = tmp + c\n",
    "\n",
    "    return result\n",
    "\n",
    "print(compute_cy_m(array_1, array_2, a, b, c))\n",
    "\n",
    "compute_cy_m_time = timeit.timeit(lambda: compute_cy_m(array_1, array_2, a, b, c), number=10)/10\n",
    "\n",
    "print(\"compute_cy_m execution time:\", compute_cy_m_time)"
   ]
  },
  {
   "cell_type": "markdown",
   "id": "2152d603",
   "metadata": {},
   "source": [
    "Here we can see how much faster it has become。"
   ]
  },
  {
   "cell_type": "markdown",
   "id": "d47a14d9",
   "metadata": {},
   "source": [
    "### Tuning indexing further\n",
    "\n",
    "The array lookups are still slowed down by two factors:\n",
    "\n",
    "Bounds checking is performed.\n",
    "\n",
    "Negative indices are checked for and handled correctly. The code above is explicitly coded so that it doesn’t use negative indices, and it (hopefully) always access within bounds.\n",
    "\n",
    "With decorators, we can deactivate those checks:\n",
    "```\n",
    "...\n",
    "cimport cython\n",
    "@cython.boundscheck(False)  # Deactivate bounds checking\n",
    "@cython.wraparound(False)   # Deactivate negative indexing.\n",
    "def compute(int[:, :] array_1, int[:, :] array_2, int a, int b, int c):\n",
    "...\n",
    "```\n",
    "Note that these lines of code are to be placed above the specified function, not at the beginning.Here we named it **compute_cy_i**."
   ]
  },
  {
   "cell_type": "code",
   "execution_count": 12,
   "id": "7823f971",
   "metadata": {},
   "outputs": [
    {
     "name": "stdout",
     "output_type": "stream",
     "text": [
      "[[187 259  94 ...  79 190 142]\n",
      " [154 178 175 ... 304 217 307]\n",
      " [106 331 346 ... 313 103 130]\n",
      " ...\n",
      " [ 85 280 313 ... 208  73  85]\n",
      " [298 256  85 ... 274 260 247]\n",
      " [ 82 322 244 ... 241 157 181]]\n",
      "compute_cy_i execution time: 0.014358759999959147\n"
     ]
    }
   ],
   "source": [
    "%%cython\n",
    "\n",
    "import numpy as np\n",
    "import timeit\n",
    "\n",
    "\n",
    "array_1 = np.random.uniform(0, 100, size=(3000, 2000)).astype(np.intc)\n",
    "array_2 = np.random.uniform(0, 100, size=(3000, 2000)).astype(np.intc)\n",
    "a = 4\n",
    "b = 3\n",
    "c = 9\n",
    "\n",
    "DTYPE = np.intc   # numpy.intc ---- int. Otherwise,they are implicitly typed as Python objects\n",
    "\n",
    "cdef int clip(int a, int min_value, int max_value):\n",
    "    return min(max(a, min_value), max_value)\n",
    "\n",
    "cimport cython\n",
    "@cython.boundscheck(False)  # Deactivate bounds checking.\n",
    "@cython.wraparound(False)   # Deactivate negative indexing.\n",
    "\n",
    "def compute_cy_i(int[:, :] array_1, int[:, :] array_2, int a, int b, int c):\n",
    "     \n",
    "    cdef Py_ssize_t x_max = array_1.shape[0]\n",
    "    cdef Py_ssize_t y_max = array_1.shape[1]\n",
    "\n",
    "    assert tuple(array_1.shape) == tuple(array_2.shape)\n",
    "\n",
    "    result = np.zeros((x_max, y_max), dtype=DTYPE)\n",
    "    cdef int[:, :] result_view = result\n",
    "\n",
    "    cdef int tmp\n",
    "    cdef Py_ssize_t x, y\n",
    "\n",
    "    for x in range(x_max):\n",
    "        for y in range(y_max):\n",
    "\n",
    "            tmp = clip(array_1[x, y], 2, 10)\n",
    "            tmp = tmp * a + array_2[x, y] * b\n",
    "            result_view[x, y] = tmp + c\n",
    "\n",
    "    return result\n",
    "\n",
    "print(compute_cy_i(array_1, array_2, a, b, c))\n",
    "\n",
    "compute_cy_i_time = timeit.timeit(lambda: compute_cy_i(array_1, array_2, a, b, c), number=10)/10\n",
    "\n",
    "print(\"compute_cy_i execution time:\", compute_cy_i_time)"
   ]
  },
  {
   "cell_type": "markdown",
   "id": "a2fd4848",
   "metadata": {},
   "source": [
    "### Declaring the NumPy arrays as contiguous\n",
    "\n",
    "For extra speed gains, if you know that the NumPy arrays you are providing are contiguous in memory, you can declare the memoryview as contiguous.\n",
    "\n",
    "We give an example on an array that has 3 dimensions. If you want to give Cython the information that the data is C-contiguous you have to declare the memoryview like this:\n",
    "```\n",
    "cdef int [:,:,::1] a\n",
    "```\n",
    "If you want to give Cython the information that the data is Fortran-contiguous you have to declare the memoryview like this:\n",
    "```\n",
    "cdef int [::1, :, :] a\n",
    "```\n",
    "If all this makes no sense to you, you can skip this part, declaring arrays as contiguous constrains the usage of your functions as it rejects array slices as input. \n",
    "\n",
    "Here we named it **compute_cy_c**."
   ]
  },
  {
   "cell_type": "code",
   "execution_count": 13,
   "id": "5e34af8c",
   "metadata": {},
   "outputs": [
    {
     "name": "stdout",
     "output_type": "stream",
     "text": [
      "[[283 109 244 ...  58  61 328]\n",
      " [ 85 142 331 ... 145 346 259]\n",
      " [202 235 109 ... 169 280  52]\n",
      " ...\n",
      " [325 232 271 ... 151  87 202]\n",
      " [ 52  73 295 ... 247 235 286]\n",
      " [232 268 127 ... 196 136 211]]\n",
      "compute_cy_c execution time: 0.014614970000002359\n"
     ]
    }
   ],
   "source": [
    "%%cython \n",
    "\n",
    "import numpy as np\n",
    "import timeit\n",
    "\n",
    "\n",
    "array_1 = np.random.uniform(0, 100, size=(3000, 2000)).astype(np.intc)\n",
    "array_2 = np.random.uniform(0, 100, size=(3000, 2000)).astype(np.intc)\n",
    "a = 4\n",
    "b = 3\n",
    "c = 9\n",
    "\n",
    "DTYPE = np.intc   # numpy.intc ---- int. Otherwise,they are implicitly typed as Python objects\n",
    "\n",
    "cdef int clip(int a, int min_value, int max_value):\n",
    "    return min(max(a, min_value), max_value)\n",
    "\n",
    "cimport cython\n",
    "@cython.boundscheck(False)  # Deactivate bounds checking.\n",
    "@cython.wraparound(False)   # Deactivate negative indexing.\n",
    "\n",
    "def compute_cy_c(int[:, ::1] array_1, int[:, ::1] array_2, int a, int b, int c):\n",
    "     \n",
    "    cdef Py_ssize_t x_max = array_1.shape[0]\n",
    "    cdef Py_ssize_t y_max = array_1.shape[1]\n",
    "\n",
    "    assert tuple(array_1.shape) == tuple(array_2.shape)\n",
    "\n",
    "    result = np.zeros((x_max, y_max), dtype=DTYPE)\n",
    "    cdef int[:, ::1] result_view = result\n",
    "\n",
    "    cdef int tmp\n",
    "    cdef Py_ssize_t x, y\n",
    "\n",
    "    for x in range(x_max):\n",
    "        for y in range(y_max):\n",
    "\n",
    "            tmp = clip(array_1[x, y], 2, 10)\n",
    "            tmp = tmp * a + array_2[x, y] * b\n",
    "            result_view[x, y] = tmp + c\n",
    "\n",
    "    return result\n",
    "\n",
    "print(compute_cy_c(array_1, array_2, a, b, c))\n",
    "\n",
    "compute_cy_c_time = timeit.timeit(lambda: compute_cy_c(array_1, array_2, a, b, c), number=10)/10\n",
    "\n",
    "print(\"compute_cy_c execution time:\", compute_cy_c_time)"
   ]
  },
  {
   "cell_type": "markdown",
   "id": "306144db",
   "metadata": {},
   "source": [
    "Obviously, this optimization doesn't work here."
   ]
  },
  {
   "cell_type": "markdown",
   "id": "cbe28777",
   "metadata": {},
   "source": [
    "### Making the function cleaner & Use of multiple data types\n",
    "\n",
    "Declaring types can make your code quite verbose. If you don’t mind Cython inferring the C types of your variables, you can use the following compiler directive at the top of the file. It will save you quite a bit of typing.\n",
    "```\n",
    "infer_types=True\n",
    "```\n",
    "Note that since type declarations must happen at the top indentation level, Cython won’t infer the type of variables declared for the first time in other indentation levels. It would change too much the meaning of our code. This is why, we must still declare manually the type of the tmp, x and y variable.\n",
    "\n",
    "And actually, manually giving the type of the tmp variable will be useful when using fused types.\n",
    "\n",
    "All those speed gains are nice, but adding types constrains our code. At the moment, it would mean that our function can only work with NumPy arrays with the np.intc type.\n",
    "\n",
    "So we can use fused types to make our code work with multiple NumPy data types. The code is as follows:\n",
    "```\n",
    "ctypedef fused my_type:\n",
    "    int\n",
    "    double\n",
    "    long long\n",
    "```\n",
    "It is similar to a C++ template. It generates multiple function declarations at compile time and then selects the correct function at runtime based on the types of arguments provided. By comparing the types in the if-conditions, it is also possible to execute a completely different code path depending on the specific data type.\n",
    "\n",
    "In our example, since we can no longer access the dtype of NumPy's input array, we use these if-else statements to know what NumPy data type should be used for our output array.\n",
    "\n",
    "In this case, our function now applies to ints, doubles and floats.Here we named it **compute_cy_mdt**."
   ]
  },
  {
   "cell_type": "code",
   "execution_count": 14,
   "id": "54f05c71",
   "metadata": {},
   "outputs": [
    {
     "name": "stdout",
     "output_type": "stream",
     "text": [
      "[[109 337 268 ...  55 316 184]\n",
      " [226 157 310 ... 274 273 258]\n",
      " [256 328  61 ...  82 241 259]\n",
      " ...\n",
      " [154 274 328 ... 340 262 217]\n",
      " [304 100  55 ... 256 334 148]\n",
      " [ 58 170 289 ... 226 274  91]]\n",
      "compute_cy_mdt execution time: 0.014951370000017051\n"
     ]
    }
   ],
   "source": [
    "%%cython \n",
    "\n",
    "# cython: infer_types=True\n",
    "import numpy as np\n",
    "import timeit\n",
    "cimport cython\n",
    "\n",
    "array_1 = np.random.uniform(0, 100, size=(3000, 2000)).astype(np.intc)\n",
    "array_2 = np.random.uniform(0, 100, size=(3000, 2000)).astype(np.intc)\n",
    "a = 4\n",
    "b = 3\n",
    "c = 9\n",
    "\n",
    "ctypedef fused my_type:\n",
    "    int\n",
    "    double\n",
    "    long long\n",
    "\n",
    "cdef my_type clip(my_type a, my_type min_value, my_type max_value):\n",
    "    return min(max(a, min_value), max_value)\n",
    "\n",
    "@cython.boundscheck(False)\n",
    "@cython.wraparound(False)\n",
    "def compute_cy_mdt(my_type[:, ::1] array_1, my_type[:, ::1] array_2, my_type a, my_type b, my_type c):\n",
    "     \n",
    "    x_max = array_1.shape[0]\n",
    "    y_max = array_1.shape[1]\n",
    "    \n",
    "    assert tuple(array_1.shape) == tuple(array_2.shape)\n",
    "\n",
    "    if my_type is int:\n",
    "        dtype = np.intc\n",
    "    elif my_type is double:\n",
    "        dtype = np.double\n",
    "    elif my_type is cython.longlong:\n",
    "        dtype = np.longlong\n",
    "\n",
    "    result = np.zeros((x_max, y_max), dtype=dtype)\n",
    "    cdef my_type[:, ::1] result_view = result\n",
    "\n",
    "    cdef my_type tmp\n",
    "    cdef Py_ssize_t x, y\n",
    "\n",
    "    for x in range(x_max):\n",
    "        for y in range(y_max):\n",
    "\n",
    "            tmp = clip(array_1[x, y], 2, 10)\n",
    "            tmp = tmp * a + array_2[x, y] * b\n",
    "            result_view[x, y] = tmp + c\n",
    "\n",
    "    return result\n",
    "\n",
    "print(compute_cy_mdt(array_1, array_2, a, b, c))\n",
    "\n",
    "compute_cy_mdt_time = timeit.timeit(lambda: compute_cy_mdt(array_1, array_2, a, b, c), number=10)/10\n",
    "\n",
    "print(\"compute_cy_mdt execution time:\", compute_cy_mdt_time)"
   ]
  },
  {
   "cell_type": "markdown",
   "id": "04b5ffca",
   "metadata": {},
   "source": [
    "### Using multiple threads\n",
    "\n",
    "Cython has support for OpenMP. It also has some nice wrappers around it, like the function prange(). \n",
    "\n",
    "The GIL must be released, so this is why we declare our clip() function nogil.\n",
    "\n",
    "Here we named it **compute_cy_mt.**\n",
    "\n",
    "**Note:**\n",
    "The important thing to note here is that we need to open openmp, this may be different for different operating systems, I'm running this on windows so here is: -c=/openmp"
   ]
  },
  {
   "cell_type": "code",
   "execution_count": 15,
   "id": "c9435fe2",
   "metadata": {},
   "outputs": [
    {
     "name": "stdout",
     "output_type": "stream",
     "text": [
      "[[274 322 337 ... 280 192 262]\n",
      " [130 200 277 ... 121 307 304]\n",
      " [ 76 124  59 ... 184 256 265]\n",
      " ...\n",
      " [169  38 340 ... 175 247 328]\n",
      " [325 337 319 ... 180 328 283]\n",
      " [252  97 285 ... 193  69 169]]\n",
      "compute_cy_mt execution time: 0.04007001999998465\n"
     ]
    }
   ],
   "source": [
    "%%cython --force -c=/openmp\n",
    "# tag: openmp\n",
    "# You can ignore the previous line.\n",
    "# It's for internal testing of the cython documentation.\n",
    "\n",
    "# distutils: extra_compile_args=-fopenmp\n",
    "# distutils: extra_link_args=-fopenmp\n",
    "\n",
    "import numpy as np\n",
    "import timeit\n",
    "cimport cython\n",
    "from cython.parallel import prange\n",
    "\n",
    "array_1 = np.random.uniform(0, 100, size=(3000, 2000)).astype(np.intc)\n",
    "array_2 = np.random.uniform(0, 100, size=(3000, 2000)).astype(np.intc)\n",
    "a = 4\n",
    "b = 3\n",
    "c = 9\n",
    "\n",
    "ctypedef fused my_type:\n",
    "    int\n",
    "    double\n",
    "    long long\n",
    "\n",
    "\n",
    "# We declare our plain c function nogil\n",
    "cdef my_type clip(my_type a, my_type min_value, my_type max_value) nogil:\n",
    "    return min(max(a, min_value), max_value)\n",
    "\n",
    "\n",
    "@cython.boundscheck(False)\n",
    "@cython.wraparound(False)\n",
    "def compute_cy_mt(my_type[:, ::1] array_1, my_type[:, ::1] array_2, my_type a, my_type b, my_type c):\n",
    "\n",
    "    cdef Py_ssize_t x_max = array_1.shape[0]\n",
    "    cdef Py_ssize_t y_max = array_1.shape[1]\n",
    "\n",
    "    assert tuple(array_1.shape) == tuple(array_2.shape)\n",
    "\n",
    "    if my_type is int:\n",
    "        dtype = np.intc\n",
    "    elif my_type is double:\n",
    "        dtype = np.double\n",
    "    elif my_type is cython.longlong:\n",
    "        dtype = np.longlong\n",
    "\n",
    "    result = np.zeros((x_max, y_max), dtype=dtype)\n",
    "    cdef my_type[:, ::1] result_view = result\n",
    "\n",
    "    cdef my_type tmp\n",
    "    cdef Py_ssize_t x, y\n",
    "\n",
    "    # We use prange here.\n",
    "    # for x in prange(x_max, nogil=True):\n",
    "    #     for y in range(y_max):\n",
    "    for x in range(x_max):\n",
    "        for y in prange(y_max, num_threads=4,nogil=True):\n",
    "            tmp = clip(array_1[x, y], 2, 10)\n",
    "            tmp = tmp * a + array_2[x, y] * b\n",
    "            result_view[x, y] = tmp + c\n",
    "\n",
    "    return result\n",
    "\n",
    "print(compute_cy_mt(array_1, array_2, a, b, c))\n",
    "\n",
    "compute_cy_mt_time = timeit.timeit(lambda: compute_cy_mt(array_1, array_2, a, b, c), number=10)/10\n",
    "\n",
    "print(\"compute_cy_mt execution time:\", compute_cy_mt_time)"
   ]
  },
  {
   "cell_type": "markdown",
   "id": "35f625be",
   "metadata": {},
   "source": [
    "Parallel computing does not necessarily lead to an eventual speed increase, and the reasons for this can be varied. For example, Parallelizing operations incurs additional overhead, such as thread creation and synchronization, that may outweigh the benefits of parallelism for small or simple operations.\n",
    "\n",
    "Here, instead, I am running slower, which could be that this example is not applicable to parallel computing or is not adapted to my hardware."
   ]
  },
  {
   "cell_type": "markdown",
   "id": "5c77115e",
   "metadata": {},
   "source": [
    "## Summarize"
   ]
  },
  {
   "cell_type": "markdown",
   "id": "31ddc275",
   "metadata": {},
   "source": [
    " ### html file\n",
    " \n",
    " The final html file is as follows. Most of the lines have become lighter in colour, even white."
   ]
  },
  {
   "cell_type": "markdown",
   "id": "e4d4d6f6",
   "metadata": {},
   "source": [
    "![图片描述](image_folder/Speed_up_Numpy_with_Cython_image_02.png)"
   ]
  },
  {
   "cell_type": "markdown",
   "id": "91ee922c",
   "metadata": {},
   "source": [
    "### Compare\n",
    "\n",
    "Finally let's compare their speeds. If we look at Numpy's speed as 100%, then the last column is their comparison with the very first Numpy speed."
   ]
  },
  {
   "cell_type": "code",
   "execution_count": 17,
   "id": "c63fde1c",
   "metadata": {},
   "outputs": [
    {
     "data": {
      "text/html": [
       "<style type=\"text/css\">\n",
       "#T_0de2c table {\n",
       "  border-collapse: collapse;\n",
       "}\n",
       "#T_0de2c th {\n",
       "  border: 1px solid black;\n",
       "}\n",
       "#T_0de2c  td {\n",
       "  border: 1px solid black;\n",
       "}\n",
       "#T_0de2c_row0_col0, #T_0de2c_row0_col1, #T_0de2c_row0_col2, #T_0de2c_row1_col0, #T_0de2c_row1_col1, #T_0de2c_row1_col2, #T_0de2c_row2_col0, #T_0de2c_row2_col1, #T_0de2c_row2_col2, #T_0de2c_row3_col0, #T_0de2c_row3_col1, #T_0de2c_row3_col2, #T_0de2c_row4_col0, #T_0de2c_row4_col1, #T_0de2c_row4_col2, #T_0de2c_row5_col0, #T_0de2c_row5_col1, #T_0de2c_row5_col2, #T_0de2c_row6_col0, #T_0de2c_row6_col1, #T_0de2c_row6_col2, #T_0de2c_row7_col0, #T_0de2c_row7_col1, #T_0de2c_row7_col2, #T_0de2c_row8_col0, #T_0de2c_row8_col1, #T_0de2c_row8_col2 {\n",
       "  border: 1px solid black;\n",
       "}\n",
       "</style>\n",
       "<table id=\"T_0de2c\">\n",
       "  <thead>\n",
       "    <tr>\n",
       "      <th class=\"blank level0\" >&nbsp;</th>\n",
       "      <th id=\"T_0de2c_level0_col0\" class=\"col_heading level0 col0\" >Methods</th>\n",
       "      <th id=\"T_0de2c_level0_col1\" class=\"col_heading level0 col1\" >Speed(s)</th>\n",
       "      <th id=\"T_0de2c_level0_col2\" class=\"col_heading level0 col2\" >Percentage(%)</th>\n",
       "    </tr>\n",
       "  </thead>\n",
       "  <tbody>\n",
       "    <tr>\n",
       "      <th id=\"T_0de2c_level0_row0\" class=\"row_heading level0 row0\" >0</th>\n",
       "      <td id=\"T_0de2c_row0_col0\" class=\"data row0 col0\" >Numpy</td>\n",
       "      <td id=\"T_0de2c_row0_col1\" class=\"data row0 col1\" >0.058665</td>\n",
       "      <td id=\"T_0de2c_row0_col2\" class=\"data row0 col2\" >100.000000</td>\n",
       "    </tr>\n",
       "    <tr>\n",
       "      <th id=\"T_0de2c_level0_row1\" class=\"row_heading level0 row1\" >1</th>\n",
       "      <td id=\"T_0de2c_row1_col0\" class=\"data row1 col0\" >Pure Python</td>\n",
       "      <td id=\"T_0de2c_row1_col1\" class=\"data row1 col1\" >10.784625</td>\n",
       "      <td id=\"T_0de2c_row1_col2\" class=\"data row1 col2\" >0.543966</td>\n",
       "    </tr>\n",
       "    <tr>\n",
       "      <th id=\"T_0de2c_level0_row2\" class=\"row_heading level0 row2\" >2</th>\n",
       "      <td id=\"T_0de2c_row2_col0\" class=\"data row2 col0\" >Original Cython</td>\n",
       "      <td id=\"T_0de2c_row2_col1\" class=\"data row2 col1\" >8.321112</td>\n",
       "      <td id=\"T_0de2c_row2_col2\" class=\"data row2 col2\" >0.705010</td>\n",
       "    </tr>\n",
       "    <tr>\n",
       "      <th id=\"T_0de2c_level0_row3\" class=\"row_heading level0 row3\" >3</th>\n",
       "      <td id=\"T_0de2c_row3_col0\" class=\"data row3 col0\" >Cython_add types</td>\n",
       "      <td id=\"T_0de2c_row3_col1\" class=\"data row3 col1\" >5.123431</td>\n",
       "      <td id=\"T_0de2c_row3_col2\" class=\"data row3 col2\" >1.145028</td>\n",
       "    </tr>\n",
       "    <tr>\n",
       "      <th id=\"T_0de2c_level0_row4\" class=\"row_heading level0 row4\" >4</th>\n",
       "      <td id=\"T_0de2c_row4_col0\" class=\"data row4 col0\" >Cython_memoryviews</td>\n",
       "      <td id=\"T_0de2c_row4_col1\" class=\"data row4 col1\" >0.037777</td>\n",
       "      <td id=\"T_0de2c_row4_col2\" class=\"data row4 col2\" >155.291081</td>\n",
       "    </tr>\n",
       "    <tr>\n",
       "      <th id=\"T_0de2c_level0_row5\" class=\"row_heading level0 row5\" >5</th>\n",
       "      <td id=\"T_0de2c_row5_col0\" class=\"data row5 col0\" >Cython_tuning indexing</td>\n",
       "      <td id=\"T_0de2c_row5_col1\" class=\"data row5 col1\" >0.014359</td>\n",
       "      <td id=\"T_0de2c_row5_col2\" class=\"data row5 col2\" >408.563831</td>\n",
       "    </tr>\n",
       "    <tr>\n",
       "      <th id=\"T_0de2c_level0_row6\" class=\"row_heading level0 row6\" >6</th>\n",
       "      <td id=\"T_0de2c_row6_col0\" class=\"data row6 col0\" >Cyton_contiguous</td>\n",
       "      <td id=\"T_0de2c_row6_col1\" class=\"data row6 col1\" >0.014615</td>\n",
       "      <td id=\"T_0de2c_row6_col2\" class=\"data row6 col2\" >401.401440</td>\n",
       "    </tr>\n",
       "    <tr>\n",
       "      <th id=\"T_0de2c_level0_row7\" class=\"row_heading level0 row7\" >7</th>\n",
       "      <td id=\"T_0de2c_row7_col0\" class=\"data row7 col0\" >Cython_multiple data types</td>\n",
       "      <td id=\"T_0de2c_row7_col1\" class=\"data row7 col1\" >0.014951</td>\n",
       "      <td id=\"T_0de2c_row7_col2\" class=\"data row7 col2\" >392.370064</td>\n",
       "    </tr>\n",
       "    <tr>\n",
       "      <th id=\"T_0de2c_level0_row8\" class=\"row_heading level0 row8\" >8</th>\n",
       "      <td id=\"T_0de2c_row8_col0\" class=\"data row8 col0\" >Cython_multiple threads</td>\n",
       "      <td id=\"T_0de2c_row8_col1\" class=\"data row8 col1\" >0.040070</td>\n",
       "      <td id=\"T_0de2c_row8_col2\" class=\"data row8 col2\" >146.405467</td>\n",
       "    </tr>\n",
       "  </tbody>\n",
       "</table>\n"
      ],
      "text/plain": [
       "<IPython.core.display.HTML object>"
      ]
     },
     "execution_count": 17,
     "metadata": {},
     "output_type": "execute_result"
    }
   ],
   "source": [
    "import pandas as pd\n",
    "from IPython.display import HTML\n",
    "\n",
    "data = {\n",
    "    'Methods': ['Numpy', 'Pure Python','Original Cython','Cython_add types','Cython_memoryviews','Cython_tuning indexing','Cyton_contiguous','Cython_multiple data types','Cython_multiple threads'],\n",
    "    'Speed(s)': [compute_np_time, compute_py_time,compute_cy_time,compute_cy_t_time,compute_cy_m_time,compute_cy_i_time,compute_cy_c_time,compute_cy_mdt_time,compute_cy_mt_time],\n",
    "    'Percentage(%)': [100, compute_np_time/compute_py_time*100,compute_np_time/compute_cy_time*100,compute_np_time/compute_cy_t_time*100,compute_np_time/compute_cy_m_time*100,compute_np_time/compute_cy_i_time*100,compute_np_time/compute_cy_c_time*100,compute_np_time/compute_cy_mdt_time*100,compute_np_time/compute_cy_mt_time*100]\n",
    "}\n",
    "df = pd.DataFrame(data)\n",
    "\n",
    "# Creating style functions\n",
    "def add_border(val):\n",
    "    return 'border: 1px solid black'\n",
    "\n",
    "# Applying style functions to data boxes\n",
    "styled_df = df.style.applymap(add_border)\n",
    "\n",
    "# Defining CSS styles\n",
    "table_style = [\n",
    "    {'selector': 'table', 'props': [('border-collapse', 'collapse')]},\n",
    "    {'selector': 'th, td', 'props': [('border', '1px solid black')]}\n",
    "]\n",
    "\n",
    "# Adding styles to stylised data boxes\n",
    "styled_df.set_table_styles(table_style)\n",
    "\n",
    "# Displaying stylised data boxes in Jupyter Notebook\n",
    "HTML(styled_df.to_html())"
   ]
  },
  {
   "cell_type": "markdown",
   "id": "47f97b48",
   "metadata": {},
   "source": [
    "We can see that the final optimisation is already more than three times faster than the Numpy."
   ]
  }
 ],
 "metadata": {
  "kernelspec": {
   "display_name": "Python 3 (ipykernel)",
   "language": "python",
   "name": "python3"
  },
  "language_info": {
   "codemirror_mode": {
    "name": "ipython",
    "version": 3
   },
   "file_extension": ".py",
   "mimetype": "text/x-python",
   "name": "python",
   "nbconvert_exporter": "python",
   "pygments_lexer": "ipython3",
   "version": "3.9.13"
  },
  "toc": {
   "base_numbering": 1,
   "nav_menu": {},
   "number_sections": true,
   "sideBar": true,
   "skip_h1_title": false,
   "title_cell": "Table of Contents",
   "title_sidebar": "Contents",
   "toc_cell": false,
   "toc_position": {},
   "toc_section_display": true,
   "toc_window_display": false
  }
 },
 "nbformat": 4,
 "nbformat_minor": 5
}

{
 "cells": [
  {
   "cell_type": "markdown",
   "id": "823896b7",
   "metadata": {},
   "source": [
    "# Trying to change the threads to improve Numpy's efficiency"
   ]
  },
  {
   "cell_type": "markdown",
   "id": "93e0bb2e",
   "metadata": {},
   "source": [
    "We can change the number of threads by using MKL implementation."
   ]
  },
  {
   "cell_type": "markdown",
   "id": "53d258a4",
   "metadata": {},
   "source": [
    "## MKL\n",
    "\n",
    "MKL (Intel Math Kernel Library) is a maths library optimised for Intel processors, which provides highly optimised mathematical routines, especially for multi-core processors. When NumPy is built with MKL support, NumPy can take advantage of the parallelisation routines provided by MKL to accelerate numerical computation.\n",
    "\n",
    "Currently, numpy is usually bundled with MKL, so we can do thread checking with the following code."
   ]
  },
  {
   "cell_type": "markdown",
   "id": "fc38f96f",
   "metadata": {},
   "source": [
    "## Check if MKL already exists in the system"
   ]
  },
  {
   "cell_type": "code",
   "execution_count": 1,
   "id": "7796873f",
   "metadata": {},
   "outputs": [
    {
     "name": "stdout",
     "output_type": "stream",
     "text": [
      "Default threads： 4\n"
     ]
    }
   ],
   "source": [
    "import numpy as np\n",
    "from mkl import set_num_threads, get_max_threads\n",
    "\n",
    "current_threads = get_max_threads()\n",
    "print(\"Default threads：\", current_threads)"
   ]
  },
  {
   "cell_type": "markdown",
   "id": "05a95891",
   "metadata": {},
   "source": [
    "As you can see, the default number of threads shown here is 4, not 1, which matches the parameters of my computer. This means we don't need to do more operations, MKL has already implemented multi-threaded calculations for us.\n",
    "\n",
    "But if we want to change the number of threads, we can use `set_num_threads()`."
   ]
  },
  {
   "cell_type": "markdown",
   "id": "f1b1abf9",
   "metadata": {},
   "source": [
    "## Example of changing the number of threads\n",
    "\n",
    "Here we use a simple matrix multiplication example to try the effect of changing the threads (number of threads changed to 1)."
   ]
  },
  {
   "cell_type": "code",
   "execution_count": 2,
   "id": "81796b2c",
   "metadata": {},
   "outputs": [
    {
     "name": "stdout",
     "output_type": "stream",
     "text": [
      "current_threads： 4\n",
      "updated_threads： 1\n",
      "max threads： 1\n",
      "threads_1 execution time: 34.72792249999975\n"
     ]
    }
   ],
   "source": [
    "import timeit\n",
    "import numpy as np\n",
    "from mkl import set_num_threads, get_max_threads\n",
    "\n",
    "def caculation_1():\n",
    "    current_threads = get_max_threads()    # Get the current number of MKL threads\n",
    "\n",
    "    set_num_threads(1)    # Set the number of MKL threads to 1\n",
    "\n",
    "    updated_threads = get_max_threads()   # Get the updated MKL thread count\n",
    "\n",
    "    print(\"current_threads：\", current_threads)\n",
    "    print(\"updated_threads：\", updated_threads)\n",
    "\n",
    "    size = (10000, 100000)    # Create a large random matrix\n",
    "    matrix = np.random.rand(*size)\n",
    "\n",
    "    result = np.dot(matrix, matrix)    # Perform matrix multiplication\n",
    "    \n",
    "    max_threads = get_max_threads()\n",
    "    print(\"max threads：\", max_threads)    # Get the max thread count\n",
    "    \n",
    "    return result\n",
    "\n",
    "\n",
    "compute_time_threads_1 = timeit.timeit(lambda: caculation_1(), number=1)    # Record execution time\n",
    "\n",
    "print(\"threads_1 execution time:\", compute_time_threads_1)"
   ]
  },
  {
   "cell_type": "markdown",
   "id": "7df522f0",
   "metadata": {},
   "source": [
    "Let's change the thread to 4:"
   ]
  },
  {
   "cell_type": "code",
   "execution_count": 3,
   "id": "ef6bf5eb",
   "metadata": {},
   "outputs": [
    {
     "name": "stdout",
     "output_type": "stream",
     "text": [
      "current_threads： 1\n",
      "updated_threads： 4\n",
      "max threads： 4\n",
      "threads_4 execution time: 23.206560399999944\n"
     ]
    }
   ],
   "source": [
    "import timeit\n",
    "import numpy as np\n",
    "from mkl import set_num_threads, get_max_threads\n",
    "\n",
    "def caculation_1():\n",
    "    current_threads = get_max_threads()    # Get the current number of MKL threads\n",
    "\n",
    "    set_num_threads(4)    # Set the number of MKL threads to 1\n",
    "\n",
    "    updated_threads = get_max_threads()   # Get the updated MKL thread count\n",
    "\n",
    "    print(\"current_threads：\", current_threads)\n",
    "    print(\"updated_threads：\", updated_threads)\n",
    "\n",
    "    size = (10000, 100000)    # Create a large random matrix\n",
    "    matrix = np.random.rand(*size)\n",
    "\n",
    "    result = np.dot(matrix, matrix)    # Perform matrix multiplication\n",
    "    \n",
    "    max_threads = get_max_threads()\n",
    "    print(\"max threads：\", max_threads)    # Get the max thread count\n",
    "    \n",
    "    return result\n",
    "\n",
    "\n",
    "compute_time_threads_1 = timeit.timeit(lambda: caculation_1(), number=1)    # Record execution time\n",
    "\n",
    "print(\"threads_1 execution time:\", compute_time_threads_1)"
   ]
  },
  {
   "cell_type": "markdown",
   "id": "5a5b9dd2",
   "metadata": {},
   "source": [
    "## Conclusion\n",
    "\n",
    "Finally, let's compare speeds of example with the following code."
   ]
  },
  {
   "cell_type": "code",
   "execution_count": 5,
   "id": "3f197fdb",
   "metadata": {},
   "outputs": [
    {
     "data": {
      "text/html": [
       "<style type=\"text/css\">\n",
       "#T_a4162 table {\n",
       "  border-collapse: collapse;\n",
       "}\n",
       "#T_a4162 th {\n",
       "  border: 1px solid black;\n",
       "}\n",
       "#T_a4162  td {\n",
       "  border: 1px solid black;\n",
       "}\n",
       "#T_a4162_row0_col0, #T_a4162_row0_col1, #T_a4162_row0_col2, #T_a4162_row1_col0, #T_a4162_row1_col1, #T_a4162_row1_col2 {\n",
       "  border: 1px solid black;\n",
       "}\n",
       "</style>\n",
       "<table id=\"T_a4162\">\n",
       "  <thead>\n",
       "    <tr>\n",
       "      <th class=\"blank level0\" >&nbsp;</th>\n",
       "      <th id=\"T_a4162_level0_col0\" class=\"col_heading level0 col0\" >Methods</th>\n",
       "      <th id=\"T_a4162_level0_col1\" class=\"col_heading level0 col1\" >Excution time(s)</th>\n",
       "      <th id=\"T_a4162_level0_col2\" class=\"col_heading level0 col2\" >Speed up</th>\n",
       "    </tr>\n",
       "  </thead>\n",
       "  <tbody>\n",
       "    <tr>\n",
       "      <th id=\"T_a4162_level0_row0\" class=\"row_heading level0 row0\" >0</th>\n",
       "      <td id=\"T_a4162_row0_col0\" class=\"data row0 col0\" >threads：1</td>\n",
       "      <td id=\"T_a4162_row0_col1\" class=\"data row0 col1\" >34.727922</td>\n",
       "      <td id=\"T_a4162_row0_col2\" class=\"data row0 col2\" >1.000000</td>\n",
       "    </tr>\n",
       "    <tr>\n",
       "      <th id=\"T_a4162_level0_row1\" class=\"row_heading level0 row1\" >1</th>\n",
       "      <td id=\"T_a4162_row1_col0\" class=\"data row1 col0\" >threads：4</td>\n",
       "      <td id=\"T_a4162_row1_col1\" class=\"data row1 col1\" >23.206560</td>\n",
       "      <td id=\"T_a4162_row1_col2\" class=\"data row1 col2\" >1.496470</td>\n",
       "    </tr>\n",
       "  </tbody>\n",
       "</table>\n"
      ],
      "text/plain": [
       "<IPython.core.display.HTML object>"
      ]
     },
     "execution_count": 5,
     "metadata": {},
     "output_type": "execute_result"
    }
   ],
   "source": [
    "import pandas as pd\n",
    "from IPython.display import HTML\n",
    "\n",
    "data = {\n",
    "    'Methods': ['threads：1', 'threads：4'],\n",
    "    'Excution time(s)': [compute_time_threads_1, compute_time_threads_4],\n",
    "    'Speed up': [1, compute_time_threads_1/compute_time_threads_4]\n",
    "}\n",
    "df = pd.DataFrame(data)\n",
    "\n",
    "# Creating style functions\n",
    "def add_border(val):\n",
    "    return 'border: 1px solid black'\n",
    "\n",
    "# Applying style functions to data boxes\n",
    "styled_df = df.style.applymap(add_border)\n",
    "\n",
    "# Defining CSS styles\n",
    "table_style = [\n",
    "    {'selector': 'table', 'props': [('border-collapse', 'collapse')]},\n",
    "    {'selector': 'th, td', 'props': [('border', '1px solid black')]}\n",
    "]\n",
    "\n",
    "# Adding styles to stylised data boxes\n",
    "styled_df.set_table_styles(table_style)\n",
    "\n",
    "# Displaying stylised data boxes in Jupyter Notebook\n",
    "HTML(styled_df.to_html())"
   ]
  },
  {
   "cell_type": "markdown",
   "id": "f7616c35",
   "metadata": {},
   "source": [
    "You can see that it runs faster when the number of threads is 4. Nevertheless, we don't need to change this when optimising Numpy, we just need to make sure that MKL has automatically turned on maximum threads to speed up calculations."
   ]
  }
 ],
 "metadata": {
  "kernelspec": {
   "display_name": "Python 3 (ipykernel)",
   "language": "python",
   "name": "python3"
  },
  "language_info": {
   "codemirror_mode": {
    "name": "ipython",
    "version": 3
   },
   "file_extension": ".py",
   "mimetype": "text/x-python",
   "name": "python",
   "nbconvert_exporter": "python",
   "pygments_lexer": "ipython3",
   "version": "3.9.13"
  },
  "toc": {
   "base_numbering": 1,
   "nav_menu": {},
   "number_sections": true,
   "sideBar": true,
   "skip_h1_title": false,
   "title_cell": "Table of Contents",
   "title_sidebar": "Contents",
   "toc_cell": false,
   "toc_position": {},
   "toc_section_display": true,
   "toc_window_display": false
  }
 },
 "nbformat": 4,
 "nbformat_minor": 5
}
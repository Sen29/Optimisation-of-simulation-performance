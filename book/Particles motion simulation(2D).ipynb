{
 "cells": [
  {
   "cell_type": "markdown",
   "id": "3aab6011",
   "metadata": {},
   "source": [
    "<h1 style=\"text-align: center;\">Two-dimensional particle motion simulation</h1>"
   ]
  },
  {
   "cell_type": "markdown",
   "id": "fa913638",
   "metadata": {},
   "source": [
    "# 1. Idea"
   ]
  },
  {
   "cell_type": "markdown",
   "id": "ccf1d52c",
   "metadata": {},
   "source": [
    "The idea of two-dimensional particle motion is the same as that of one-dimensional particle motion. We assume that there are 10 particles in the xy plane and that there are forces interacting between these particles which cause the particles to gain acceleration and thus displacement."
   ]
  },
  {
   "cell_type": "markdown",
   "id": "fbffcad0",
   "metadata": {},
   "source": [
    "# 2. Details"
   ]
  },
  {
   "cell_type": "markdown",
   "id": "836a0d87",
   "metadata": {},
   "source": [
    "## 2.1 Randomly generated particle coordinates\n",
    "We can randomly generate the coordinates of 10 particles by"
   ]
  },
  {
   "cell_type": "code",
   "execution_count": 2,
   "id": "d4261fa8",
   "metadata": {},
   "outputs": [
    {
     "data": {
      "text/plain": [
       "array([[0.5488135 , 0.71518937],\n",
       "       [0.60276338, 0.54488318],\n",
       "       [0.4236548 , 0.64589411],\n",
       "       [0.43758721, 0.891773  ],\n",
       "       [0.96366276, 0.38344152],\n",
       "       [0.79172504, 0.52889492],\n",
       "       [0.56804456, 0.92559664],\n",
       "       [0.07103606, 0.0871293 ],\n",
       "       [0.0202184 , 0.83261985],\n",
       "       [0.77815675, 0.87001215]])"
      ]
     },
     "execution_count": 2,
     "metadata": {},
     "output_type": "execute_result"
    }
   ],
   "source": [
    "import random\n",
    "import numpy as np\n",
    "\n",
    "def Initial_position(n):\n",
    "    np.random.seed(0)\n",
    "    p = np.random.rand(n, 2)\n",
    "    return p\n",
    "\n",
    "Initial_position(10)"
   ]
  },
  {
   "cell_type": "markdown",
   "id": "7d9ef6fd",
   "metadata": {},
   "source": [
    "We can see the position of the coordinates of the 10 particles generated, and in the diagram (for ease of observation, different colours are used here to distinguish the particles):"
   ]
  },
  {
   "cell_type": "code",
   "execution_count": 3,
   "id": "adf09ca7",
   "metadata": {},
   "outputs": [],
   "source": [
    "%matplotlib inline\n",
    "import matplotlib.pyplot as plt\n",
    "\n",
    "def plot(p):\n",
    "    plt.clf()\n",
    "    xpos = p[:, 0]    # All x-axis coordinates\n",
    "    ypos = p[:, 1]    # All y-axis coordinates\n",
    "    n = len(p)\n",
    "    color = ['red', 'green', 'blue', 'orange', 'yellow', 'brown', 'black', 'pink', 'purple', 'Gray'] \n",
    "    n_color = len(color)\n",
    "    for i in range(n):\n",
    "        plt.plot(xpos[i], ypos[i], \"o\", color=color[i % n_color])\n",
    "    plt.xlim(left=-0.1, right=1.1)\n",
    "    plt.ylim(bottom=-0.1, top=1.1)\n",
    "    plt.grid()\n",
    "    plt.draw()\n"
   ]
  },
  {
   "cell_type": "markdown",
   "id": "9c06e9ff",
   "metadata": {},
   "source": [
    "![图片描述](image_folder/particles_motion_simulation(2D)_01.png)"
   ]
  },
  {
   "cell_type": "markdown",
   "id": "7d653ab2",
   "metadata": {},
   "source": [
    "## 2.2 Interaction forces between particles\n",
    "\n",
    "The interaction forces between the particles are related to the spacing between them and their relationship is given by\n",
    "$$f(r)=C_1⋅/ (r ⋅ C_2)$$\n",
    "r is the distance between two particles, C_1 and C_2 are constants, and we can set them to 1 initially, but we may want to change it later. This means that the further apart the particles are, the less force they have.\n",
    "\n",
    "But this is only the interaction force between a pair of particles, so we need to calculate the combined force using the 'for loop'.\n",
    "$$𝐹=𝑓1+𝑓2+⋯+𝑓9$$"
   ]
  },
  {
   "cell_type": "code",
   "execution_count": 4,
   "id": "d6ce51e2",
   "metadata": {},
   "outputs": [],
   "source": [
    "# Calculate the strength of the repulsion\n",
    "def force(r, c1=1, c2=1):\n",
    "    f = c1 / (np.linalg.norm(r) * c2) * np.sign(r)\n",
    "    return f\n",
    "\n",
    "# Calculate the total force for each particle\n",
    "def combined_force(p, n):\n",
    "    total_force = np.zeros_like(p)\n",
    "    for i in range(n):\n",
    "        fn_sum = np.zeros(2)\n",
    "        for j in range(n):\n",
    "            if j != i:\n",
    "                r = p[j] - p[i]\n",
    "                fn =  -1 * force(r)\n",
    "                fn_sum += fn \n",
    "            total_force[i] = fn_sum\n",
    "    return total_force"
   ]
  },
  {
   "cell_type": "markdown",
   "id": "cc8e20bd",
   "metadata": {},
   "source": [
    "## 2.3 Displacement of particles\n",
    "\n",
    "According to Newton law, there are two forces. F is the total force of the interaction with all the other particles, the other one is negative friction times velocity (the friction resistance).\n",
    "\n",
    "$$ma=F-ηv$$\n",
    "                            \n",
    "In our simple model, suppose the particle has zero mass, so:\n",
    "\n",
    "$$ηv=F$$\n",
    "\n",
    "And with velocity, we can introduce the displacement Δx. This represents the displacement of Δx that the particle will produce after every period of time Δt.\n",
    "\n",
    "$$v=\\frac{dr}{dt}=\\frac{F}{η}≈\\frac{∆x}{∆t}$$\n",
    "                        \n",
    "$$∆x=\\frac{F}{η}⋅∆t$$"
   ]
  },
  {
   "cell_type": "markdown",
   "id": "dbd10a74",
   "metadata": {},
   "source": [
    "This is the displacement ∆x produced by the particle after each passage of ∆t:"
   ]
  },
  {
   "cell_type": "code",
   "execution_count": 5,
   "id": "9cf95131",
   "metadata": {},
   "outputs": [],
   "source": [
    "def displacement(total_force, eta=1, delta_t=1):\n",
    "    displacement = total_force / eta * delta_t\n",
    "    return displacement"
   ]
  },
  {
   "cell_type": "markdown",
   "id": "4073d1b5",
   "metadata": {},
   "source": [
    "## 2.4 Update the position of particles\n",
    "\n",
    "For each particle we need to update its position, so here a for loop is used to accumulate the displacement of each particle. But here a boundary condition needs to be added that the position of the particle always stays within (0,10)."
   ]
  },
  {
   "cell_type": "code",
   "execution_count": 6,
   "id": "a38265e0",
   "metadata": {},
   "outputs": [],
   "source": [
    "def update_position(p, delta_r, min_x=0, max_x=1):\n",
    "    new_pos = p + delta_r\n",
    "    x_out_of_bounds = np.logical_or(new_pos[:,0] > max_x, new_pos[:,0] < min_x)\n",
    "    y_out_of_bounds = np.logical_or(new_pos[:,1] > max_x, new_pos[:,1] < min_x)\n",
    "    new_pos[x_out_of_bounds, 0] = np.clip(new_pos[x_out_of_bounds, 0], min_x, max_x)\n",
    "    new_pos[y_out_of_bounds, 1] = np.clip(new_pos[y_out_of_bounds, 1], min_x, max_x)\n",
    "    return new_pos"
   ]
  },
  {
   "cell_type": "markdown",
   "id": "38fc560c",
   "metadata": {},
   "source": [
    "## 2.5 Main function\n",
    "\n",
    "                            \n",
    "By calculating the displacements at each time step and accumulating them through a for loop, we can obtain the final time displacements\n",
    "\n",
    "$$x(t_{i+1} )=x(t_i )+∆x(t_i )$$\n",
    "\n",
    "So ultimately, we can use this method to figure out how particles move over time.\n",
    "\n",
    "Here, we can string all the functions together in one main function and output the result:"
   ]
  },
  {
   "cell_type": "code",
   "execution_count": 7,
   "id": "858d8be3",
   "metadata": {},
   "outputs": [
    {
     "name": "stdout",
     "output_type": "stream",
     "text": [
      "P(0):\n",
      " [[0.5488135  0.71518937]\n",
      " [0.60276338 0.54488318]\n",
      " [0.4236548  0.64589411]\n",
      " [0.43758721 0.891773  ]\n",
      " [0.96366276 0.38344152]\n",
      " [0.79172504 0.52889492]\n",
      " [0.56804456 0.92559664]\n",
      " [0.07103606 0.0871293 ]\n",
      " [0.0202184  0.83261985]\n",
      " [0.77815675 0.87001215]]\n",
      "P(500):  [[0.38647431 0.61272993]\n",
      " [0.76521644 0.25135491]\n",
      " [0.         0.28024363]\n",
      " [0.13540576 1.        ]\n",
      " [1.         0.        ]\n",
      " [1.         0.11430592]\n",
      " [0.71481181 1.        ]\n",
      " [0.         0.        ]\n",
      " [0.         0.8663415 ]\n",
      " [1.         1.        ]]\n"
     ]
    }
   ],
   "source": [
    "%matplotlib inline\n",
    "\n",
    "def simulate(n, time_step, show_plot=True):\n",
    "    p = Initial_position(n)\n",
    "#    update_plot(p)\n",
    "    print(\"P(0):\\n\", p)\n",
    "    for i in range(time_step):\n",
    "        total_force = combined_force(p, n)\n",
    "        x_det = displacement(total_force, delta_t=0.001)\n",
    "        p = update_position(p, x_det)\n",
    "#    update_plot(p)\n",
    "    print(\"P({}): \".format(time_step), p)\n",
    "\n",
    "\n",
    "def update_plot(pos):\n",
    "    plt.clf()\n",
    "    xpos = pos[:, 0]\n",
    "    ypos = pos[:, 1]\n",
    "    N = len(pos)\n",
    "    color = ['red', 'green', 'blue', 'orange', 'yellow', 'brown', 'black', 'pink', 'purple', 'Gray']\n",
    "    N_color = len(color)\n",
    "    for i in range(N):\n",
    "        plt.plot(xpos[i], ypos[i], \"o\", color=color[i % N_color])\n",
    "    plt.xlim(left=-0.1, right=1.1)\n",
    "    plt.ylim(bottom=-0.1, top=1.1)\n",
    "    plt.grid()\n",
    "    plt.draw()\n",
    "    plt.pause(0.0001)\n",
    "\n",
    "simulate(10, 500, show_plot=True)"
   ]
  },
  {
   "cell_type": "markdown",
   "id": "c4752954",
   "metadata": {},
   "source": [
    "P(0):\n",
    "![图片描述](image_folder/particles_motion_simulation(2D)_02.png)\n",
    "P(500):\n",
    "![图片描述](image_folder/particles_motion_simulation(2D)_03.png)"
   ]
  },
  {
   "cell_type": "markdown",
   "id": "12330dec",
   "metadata": {},
   "source": [
    "# 3. Full code"
   ]
  },
  {
   "cell_type": "code",
   "execution_count": 22,
   "id": "c535c9e6",
   "metadata": {},
   "outputs": [
    {
     "name": "stdout",
     "output_type": "stream",
     "text": [
      "Using matplotlib backend: QtAgg\n"
     ]
    }
   ],
   "source": [
    "%matplotlib\n",
    "import matplotlib.pyplot as plt\n",
    "import random\n",
    "import numpy as np\n",
    "\n",
    "\n",
    "def Initial_position(n):\n",
    "    np.random.seed(0)\n",
    "    p = np.random.rand(n, 2)\n",
    "    return p\n",
    "    \n",
    "    \n",
    "# Calculate the strength of the repulsion\n",
    "def force(r, c1=1, c2=1):\n",
    "    f = c1 / (np.linalg.norm(r) * c2) * np.sign(r)\n",
    "    return f\n",
    "\n",
    "\n",
    "# Calculate the total force for each particle\n",
    "def combined_force(p, n):\n",
    "    total_force = np.zeros_like(p)\n",
    "    for i in range(n):\n",
    "        fn_sum = np.zeros(2)\n",
    "        for j in range(n):\n",
    "            if j != i:\n",
    "                r = p[j] - p[i]\n",
    "                fn =  -1 * force(r)\n",
    "                fn_sum += fn \n",
    "            total_force[i] = fn_sum\n",
    "    return total_force\n",
    "\n",
    "\n",
    "def displacement(total_force, eta=1, delta_t=1):\n",
    "    displacement = total_force / eta * delta_t\n",
    "    return displacement\n",
    "\n",
    "\n",
    "def update_position(p, delta_r, min_x=0, max_x=1):\n",
    "    new_pos = p + delta_r\n",
    "    x_out_of_bounds = np.logical_or(new_pos[:,0] > max_x, new_pos[:,0] < min_x)\n",
    "    y_out_of_bounds = np.logical_or(new_pos[:,1] > max_x, new_pos[:,1] < min_x)\n",
    "    new_pos[x_out_of_bounds, 0] = np.clip(new_pos[x_out_of_bounds, 0], min_x, max_x)\n",
    "    new_pos[y_out_of_bounds, 1] = np.clip(new_pos[y_out_of_bounds, 1], min_x, max_x)\n",
    "    return new_pos\n",
    "\n",
    "\n",
    "def simulate(n, time_step, show_plot=True):\n",
    "    p = Initial_position(n)\n",
    "#    print(\"P(0):\\n\", p)\n",
    "    for i in range(time_step):\n",
    "        total_force = combined_force(p, n)\n",
    "        x_det = displacement(total_force, delta_t=0.0001)\n",
    "        p = update_position(p, x_det)\n",
    "        pos = p\n",
    "        if show_plot:\n",
    "            if i % 2 == 0:\n",
    "                update_plot(pos)\n",
    "#    print(\"P({}): \".format(time_step), p)\n",
    "\n",
    "\n",
    "def update_plot(pos):\n",
    "    plt.clf()\n",
    "    xpos = pos[:, 0]\n",
    "    ypos = pos[:, 1]\n",
    "    N = len(pos)\n",
    "    color = ['red', 'green', 'blue', 'orange', 'yellow', 'brown', 'black', 'pink', 'purple', 'Gray']\n",
    "    N_color = len(color)\n",
    "    for i in range(N):\n",
    "        plt.plot(xpos[i], ypos[i], \"o\", color=color[i % N_color])\n",
    "    plt.xlim(left=-0.1, right=1.1)\n",
    "    plt.ylim(bottom=-0.1, top=1.1)\n",
    "    plt.grid()\n",
    "    plt.draw()\n",
    "    plt.pause(0.0001)\n"
   ]
  },
  {
   "cell_type": "code",
   "execution_count": null,
   "id": "b603469b",
   "metadata": {},
   "outputs": [],
   "source": [
    "simulate(10, 500, show_plot=True)"
   ]
  },
  {
   "cell_type": "code",
   "execution_count": 23,
   "id": "4f69adf9",
   "metadata": {},
   "outputs": [],
   "source": [
    "simulate(50, 500, show_plot=True)"
   ]
  }
 ],
 "metadata": {
  "kernelspec": {
   "display_name": "Python 3 (ipykernel)",
   "language": "python",
   "name": "python3"
  },
  "language_info": {
   "codemirror_mode": {
    "name": "ipython",
    "version": 3
   },
   "file_extension": ".py",
   "mimetype": "text/x-python",
   "name": "python",
   "nbconvert_exporter": "python",
   "pygments_lexer": "ipython3",
   "version": "3.9.13"
  }
 },
 "nbformat": 4,
 "nbformat_minor": 5
}

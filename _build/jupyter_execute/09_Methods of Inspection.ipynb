{
 "cells": [
  {
   "cell_type": "markdown",
   "id": "3910d2ac",
   "metadata": {},
   "source": [
    "<h1 style=\"text-align: center;\">Methods of Inspection</h1>"
   ]
  },
  {
   "cell_type": "markdown",
   "id": "23b7da54",
   "metadata": {},
   "source": [
    "## Line profiler\n",
    "\n",
    "line_profiler is a Python module for analyzing code execution time, especially for each line of code execution time in detail. It can help us locate performance bottlenecks in our code and find areas that can be optimized. By using line_profiler, we can better understand the performance characteristics of the code and target optimizations to improve the efficiency of program execution."
   ]
  },
  {
   "cell_type": "markdown",
   "id": "4f7680cd",
   "metadata": {},
   "source": [
    "### Install\n",
    "\n",
    "Run the command in the terminal:`pip install line-profiler`"
   ]
  },
  {
   "cell_type": "markdown",
   "id": "7b9cd98f",
   "metadata": {},
   "source": [
    "### Example\n",
    "\n",
    "Let's take a simple example: calculating the sum of squares of a large array."
   ]
  },
  {
   "cell_type": "code",
   "execution_count": 48,
   "id": "356685a3",
   "metadata": {},
   "outputs": [
    {
     "name": "stdout",
     "output_type": "stream",
     "text": [
      "Timer unit: 1e-07 s\n",
      "\n",
      "Total time: 0.105808 s\n",
      "File: C:\\Users\\DELL\\AppData\\Local\\Temp\\ipykernel_15492\\2110549466.py\n",
      "Function: sum_of_squares at line 3\n",
      "\n",
      "Line #      Hits         Time  Per Hit   % Time  Line Contents\n",
      "==============================================================\n",
      "     3                                           def sum_of_squares(arr):\n",
      "     4         1          4.0      4.0      0.0      result = 0\n",
      "     5    100000     406596.0      4.1     38.4      for num in arr:\n",
      "     6    100000     651475.0      6.5     61.6          result += num ** 2\n",
      "     7         1          3.0      3.0      0.0      return result\n",
      "\n"
     ]
    }
   ],
   "source": [
    "large_arr = np.random.randint(1, 100, size=100000)\n",
    "\n",
    "def sum_of_squares(arr):\n",
    "    result = 0\n",
    "    for num in arr:\n",
    "        result += num ** 2\n",
    "    return result\n",
    "\n",
    "import line_profiler\n",
    "profiler = line_profiler.LineProfiler()\n",
    "profiler.add_function(sum_of_squares)\n",
    "profiler.run(\"sum_of_squares(large_arr)\")\n",
    "profiler.print_stats()"
   ]
  },
  {
   "cell_type": "markdown",
   "id": "f046f498",
   "metadata": {},
   "source": [
    "`Line #`: The line number in the code.\n",
    "\n",
    "`Hits`: The number of times the code was executed.\n",
    "\n",
    "`Time`: Total time. Indicates the total time (in seconds) accumulated in all executions of the code.\n",
    "\n",
    "`Per Hit`: Average Time. Represents the average time (Time/Hits) of each execution of the code.\n",
    "\n",
    "`% Time`: Percentage time. Indicates the percentage of time spent running the code out of the total program runtime.\n",
    "\n",
    "\n",
    "In the output, we can see that for the `sum_of_squares` function, each line represents the corresponding line of code in the function (from 3 to 7 lines) and lists the number of times each line of code was executed, the total elapsed time, the average elapsed time, and the percentage time.\n",
    "\n",
    "For example, in line 5 of the code, the line `for num in arr`: was executed 100,000 times at runtime, taking a total of 406,596 microseconds (i.e., 0.406596 seconds), with an average of 4.1 microseconds (i.e., 0.0000041 seconds), and occupying 38.4% of the total runtime.\n",
    "\n",
    "In this case, the `result += num ** 2` in the for loop takes up the vast majority of the time. This suggests that when working with large-scale data, we may be able to get better performance by using NumPy's vectorization operation instead of the for loop: `result = np.sum(arr ** 2)`.\n",
    "\n",
    "Therefore, using `line_profiler` can help us locate performance bottlenecks and identify potential optimization points to improve code execution efficiency."
   ]
  },
  {
   "cell_type": "markdown",
   "id": "874690e7",
   "metadata": {},
   "source": []
  },
  {
   "cell_type": "markdown",
   "id": "67366534",
   "metadata": {},
   "source": [
    "## View check\n",
    "\n",
    "当创建一个数组的视图（view）时，它与原始数组共享相同的数据缓冲区。通常情况下，使用view更快，因为它避免了数据的复制和额外的内存分配。因此我们有检查view的必要。\n",
    "\n",
    "### Example\n",
    "\n",
    "我们首先创建一个数组C。"
   ]
  },
  {
   "cell_type": "code",
   "execution_count": 49,
   "id": "4c769271",
   "metadata": {},
   "outputs": [
    {
     "data": {
      "text/plain": [
       "array([[ 0,  1,  2],\n",
       "       [ 3,  4,  5],\n",
       "       [ 6,  7,  8],\n",
       "       [ 9, 10, 11]])"
      ]
     },
     "execution_count": 49,
     "metadata": {},
     "output_type": "execute_result"
    }
   ],
   "source": [
    "import numpy as np\n",
    "C = np.arange(12)\n",
    "C = np.arange(12).reshape(4,3)\n",
    "C"
   ]
  },
  {
   "cell_type": "markdown",
   "id": "5605e261",
   "metadata": {},
   "source": [
    "使x等于C数组的第一行："
   ]
  },
  {
   "cell_type": "code",
   "execution_count": 50,
   "id": "04a26d8b",
   "metadata": {},
   "outputs": [
    {
     "data": {
      "text/plain": [
       "array([0, 1, 2])"
      ]
     },
     "execution_count": 50,
     "metadata": {},
     "output_type": "execute_result"
    }
   ],
   "source": [
    "x = C[0,:]\n",
    "x"
   ]
  },
  {
   "cell_type": "markdown",
   "id": "05e841ce",
   "metadata": {},
   "source": [
    "当我们改变数组的第一个元素时，x也会相应改变，因为x是view。"
   ]
  },
  {
   "cell_type": "code",
   "execution_count": 51,
   "id": "3bb57ab6",
   "metadata": {},
   "outputs": [
    {
     "data": {
      "text/plain": [
       "array([[100,   1,   2],\n",
       "       [  3,   4,   5],\n",
       "       [  6,   7,   8],\n",
       "       [  9,  10,  11]])"
      ]
     },
     "execution_count": 51,
     "metadata": {},
     "output_type": "execute_result"
    }
   ],
   "source": [
    "C[0,0] = 100\n",
    "C"
   ]
  },
  {
   "cell_type": "code",
   "execution_count": 52,
   "id": "7b4fa1fd",
   "metadata": {},
   "outputs": [
    {
     "data": {
      "text/plain": [
       "array([100,   1,   2])"
      ]
     },
     "execution_count": 52,
     "metadata": {},
     "output_type": "execute_result"
    }
   ],
   "source": [
    "x"
   ]
  },
  {
   "cell_type": "markdown",
   "id": "7931cd3a",
   "metadata": {},
   "source": []
  },
  {
   "cell_type": "code",
   "execution_count": null,
   "id": "c3fd10ba",
   "metadata": {},
   "outputs": [],
   "source": []
  },
  {
   "cell_type": "markdown",
   "id": "28f16c60",
   "metadata": {},
   "source": [
    "比如下面这个例子，我们首先创建一个NumPy数组。"
   ]
  },
  {
   "cell_type": "code",
   "execution_count": 93,
   "id": "c103d403",
   "metadata": {},
   "outputs": [],
   "source": [
    "import numpy as np\n",
    "\n",
    "data_list = [x**2 for x in range(1000**2)]\n",
    "data_np = np.array(data_list)"
   ]
  },
  {
   "cell_type": "markdown",
   "id": "4b7b4c1c",
   "metadata": {},
   "source": [
    "接着计算平方根。这里我们计算一下运算时间。"
   ]
  },
  {
   "cell_type": "code",
   "execution_count": 94,
   "id": "53f41662",
   "metadata": {},
   "outputs": [
    {
     "name": "stdout",
     "output_type": "stream",
     "text": [
      "NumPy execution time: 0.007866621017456055 seconds\n"
     ]
    }
   ],
   "source": [
    "start_time = time.time()\n",
    "result = np.sqrt(data_np)\n",
    "end_time = time.time()\n",
    "print(f\"execution time: {end_time - start_time} seconds\")"
   ]
  },
  {
   "cell_type": "markdown",
   "id": "423ddeff",
   "metadata": {},
   "source": [
    "我们可以用`.base`来检查一下，data_np是不是view。"
   ]
  },
  {
   "cell_type": "code",
   "execution_count": 95,
   "id": "2ed7c1a4",
   "metadata": {},
   "outputs": [
    {
     "name": "stdout",
     "output_type": "stream",
     "text": [
      "None\n"
     ]
    }
   ],
   "source": [
    "print(data_np.base)"
   ]
  },
  {
   "cell_type": "markdown",
   "id": "ea87e6c5",
   "metadata": {},
   "source": [
    "结果显示它并不是，因此这里我们可以为它创建一个视图，并重新计算平方和。"
   ]
  },
  {
   "cell_type": "code",
   "execution_count": 99,
   "id": "fd8bd8d9",
   "metadata": {},
   "outputs": [
    {
     "name": "stdout",
     "output_type": "stream",
     "text": [
      "execution time: 0.00401759147644043 seconds\n",
      "Timer unit: 1e-07 s\n",
      "\n"
     ]
    }
   ],
   "source": [
    "start_time = time.time()\n",
    "data_np_view = data_np.view()\n",
    "result = np.sqrt(data_np_view)\n",
    "end_time = time.time()\n",
    "print(f\"execution time: {end_time - start_time} seconds\")"
   ]
  },
  {
   "cell_type": "code",
   "execution_count": 97,
   "id": "f2c5b37f",
   "metadata": {},
   "outputs": [
    {
     "name": "stdout",
     "output_type": "stream",
     "text": [
      "[           0            1            4 ... 999994000009 999996000004\n",
      " 999998000001]\n"
     ]
    }
   ],
   "source": [
    "print(data_np_view.base)"
   ]
  },
  {
   "cell_type": "code",
   "execution_count": 98,
   "id": "a47ff029",
   "metadata": {},
   "outputs": [
    {
     "data": {
      "text/plain": [
       "True"
      ]
     },
     "execution_count": 98,
     "metadata": {},
     "output_type": "execute_result"
    }
   ],
   "source": [
    "np.shares_memory(data_np_view,  data_np)"
   ]
  },
  {
   "cell_type": "code",
   "execution_count": null,
   "id": "e7cc69db",
   "metadata": {},
   "outputs": [],
   "source": []
  },
  {
   "cell_type": "code",
   "execution_count": null,
   "id": "7f6e133c",
   "metadata": {},
   "outputs": [],
   "source": []
  },
  {
   "cell_type": "code",
   "execution_count": null,
   "id": "e138a287",
   "metadata": {},
   "outputs": [],
   "source": []
  },
  {
   "cell_type": "code",
   "execution_count": null,
   "id": "8cd1f006",
   "metadata": {},
   "outputs": [],
   "source": []
  },
  {
   "cell_type": "code",
   "execution_count": null,
   "id": "e2c1f23c",
   "metadata": {},
   "outputs": [],
   "source": []
  },
  {
   "cell_type": "code",
   "execution_count": null,
   "id": "0efa2586",
   "metadata": {},
   "outputs": [],
   "source": []
  },
  {
   "cell_type": "code",
   "execution_count": null,
   "id": "9195fe7e",
   "metadata": {},
   "outputs": [],
   "source": []
  }
 ],
 "metadata": {
  "kernelspec": {
   "display_name": "Python 3 (ipykernel)",
   "language": "python",
   "name": "python3"
  },
  "language_info": {
   "codemirror_mode": {
    "name": "ipython",
    "version": 3
   },
   "file_extension": ".py",
   "mimetype": "text/x-python",
   "name": "python",
   "nbconvert_exporter": "python",
   "pygments_lexer": "ipython3",
   "version": "3.9.13"
  },
  "toc": {
   "base_numbering": 1,
   "nav_menu": {},
   "number_sections": true,
   "sideBar": true,
   "skip_h1_title": false,
   "title_cell": "Table of Contents",
   "title_sidebar": "Contents",
   "toc_cell": false,
   "toc_position": {},
   "toc_section_display": true,
   "toc_window_display": false
  }
 },
 "nbformat": 4,
 "nbformat_minor": 5
}
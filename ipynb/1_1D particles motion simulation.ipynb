{
 "cells": [
  {
   "cell_type": "markdown",
   "id": "d03c3522",
   "metadata": {},
   "source": [
    "<h1 style=\"text-align: center;\">One-dimensional particle motion simulation</h1>"
   ]
  },
  {
   "cell_type": "markdown",
   "id": "a7cee707",
   "metadata": {},
   "source": [
    "# 1. Idea"
   ]
  },
  {
   "cell_type": "markdown",
   "id": "eadeff7b",
   "metadata": {},
   "source": [
    "We start with the simplest of one-dimensional systems. Suppose there are 10 points on a line, we can take 10 random points on an x-axis and use them as coordinates, and these points represent the positions of the particles.Then, there are forces interacting between these particles, and the forces are causing the particles to gain acceleration and thus displacement. This is the principle of this simple model, but we may also need to add a boundary to it so that the motion of the particles can eventually stabilise."
   ]
  },
  {
   "cell_type": "markdown",
   "id": "7f60e332",
   "metadata": {},
   "source": [
    "# 2. Detail\n",
    "## 2.1 Randomly generated particle coordinates\n",
    "We can randomly generate the coordinates of 10 particles by"
   ]
  },
  {
   "cell_type": "code",
   "execution_count": 49,
   "id": "35b3f808",
   "metadata": {},
   "outputs": [
    {
     "data": {
      "text/plain": [
       "[0.31846480408982525,\n",
       " 1.2837236942357588,\n",
       " 2.824261461537926,\n",
       " 3.483892327332404,\n",
       " 4.407622204637107,\n",
       " 4.586067093870614,\n",
       " 6.64318734454616,\n",
       " 8.7786790373901,\n",
       " 8.797493185344203,\n",
       " 9.617911699198027]"
      ]
     },
     "execution_count": 49,
     "metadata": {},
     "output_type": "execute_result"
    }
   ],
   "source": [
    "import random\n",
    "\n",
    "def Initial_position(n):\n",
    "    random.seed(40)\n",
    "    random_position = [random.uniform(0, 10) for _ in range(n)]\n",
    "    random_position.sort()\n",
    "    return random_position\n",
    "\n",
    "Initial_position(10)"
   ]
  },
  {
   "cell_type": "markdown",
   "id": "515cee6b",
   "metadata": {},
   "source": [
    "The 'random.uniform' function is used to select non-repeating random elements from a specified range and returns a list, and '(range(1, 100), n)' specifies that a list of floats between 1 and 100 is to be generated.\n",
    "\n",
    "'random_position.sort()' sorts the generated list of random integers. '.sort()' is a method of the list object that sorts the elements of the list in ascending order.\n",
    "\n",
    "To make the random numbers generated the same for each run, the random.seed() function is used here, where 40 is the value of the seed, which can be any integer. By setting the seed to the same value, it is guaranteed that the same sequence of random numbers will be generated each time the code is run."
   ]
  },
  {
   "cell_type": "markdown",
   "id": "fa10d5d7",
   "metadata": {},
   "source": [
    "If we wanted to show them in the diagram, they would be"
   ]
  },
  {
   "cell_type": "code",
   "execution_count": 60,
   "id": "1f0995f7",
   "metadata": {},
   "outputs": [
    {
     "data": {
      "image/png": "[encoded data removed]",
      "text/plain": [
       "<Figure size 640x480 with 1 Axes>"
      ]
     },
     "metadata": {},
     "output_type": "display_data"
    }
   ],
   "source": [
    "%matplotlib inline\n",
    "import matplotlib.pyplot as plt\n",
    "\n",
    "def plot(p):\n",
    "    plt.clf()\n",
    "    ypos = [0 for i in range(len(p))]\n",
    "    plt.plot(p, ypos, \"o\")\n",
    "    plt.grid()\n",
    "    plt.show()\n",
    "    \n",
    "plot(Initial_position(10))"
   ]
  },
  {
   "cell_type": "markdown",
   "id": "b91bcb6e",
   "metadata": {},
   "source": [
    "## 2.2 Interaction forces between particles\n",
    "\n",
    "The interaction forces between the particles are related to the spacing between them and their relationship is given by\n",
    "$$f(r)=C_1⋅e^{-r/C_2 }$$\n",
    "r is the distance between two particles, C_1 and C_2 are constants, and we can set them to 1 initially, but we may want to change it later. This means that the further apart the particles are, the less force they have.\n",
    "\n",
    "But this is only the interaction force between a pair of particles, so we need to calculate the combined force using the 'for loop'.\n",
    "$$𝐹=𝑓1+𝑓2+⋯+𝑓9$$"
   ]
  },
  {
   "cell_type": "code",
   "execution_count": 51,
   "id": "70bedc19",
   "metadata": {},
   "outputs": [],
   "source": [
    "import math\n",
    "\n",
    "# Calculating the force between a pair of particles\n",
    "def force(r, c1=1, c2=1):\n",
    "    f = c1 * math.exp(-r / c2)\n",
    "    return f\n",
    "\n",
    "# Calculate the total force of repulsion for each particle\n",
    "def combined_force(p):\n",
    "    total_force = []\n",
    "    n = len(p)\n",
    "    for i in range(n):\n",
    "        fn_sum = 0\n",
    "        for j in range(n):\n",
    "            if j != i:\n",
    "                r = p[j] - p[i]\n",
    "                fn = -1 * force(abs(r)) * r / abs(r)\n",
    "                fn_sum += fn\n",
    "        total_force.append(fn_sum)\n",
    "    return total_force"
   ]
  },
  {
   "cell_type": "markdown",
   "id": "32e8e01b",
   "metadata": {},
   "source": [
    "Here, 'len(p)' is used to calculate the number of particles, 'r' represents the distance between a pair of particles, and 'fn = -1 * force(abs(r)) * r / abs(r)' is used to correct for the direction of the force."
   ]
  },
  {
   "cell_type": "markdown",
   "id": "47478a07",
   "metadata": {},
   "source": [
    "## 2.3 Displacement of particles\n",
    "\n",
    "According to Newton law, there are two forces. F is the total force of the interaction with all the other particles, the other one is negative friction times velocity (the friction resistance).\n",
    "\n",
    "$$ma=F-ηv$$\n",
    "                            \n",
    "In our simple model, suppose the particle has zero mass, so:\n",
    "\n",
    "$$ηv=F$$\n",
    "\n",
    "And with velocity, we can introduce the displacement Δx. This represents the displacement of Δx that the particle will produce after every period of time Δt.\n",
    "\n",
    "$$v=\\frac{dr}{dt}=\\frac{F}{η}≈\\frac{∆x}{∆t}$$\n",
    "                        \n",
    "$$∆x=\\frac{F}{η}⋅∆t$$"
   ]
  },
  {
   "cell_type": "markdown",
   "id": "d13beede",
   "metadata": {},
   "source": [
    "This is the displacement ∆x produced by the particle after each passage of ∆t:"
   ]
  },
  {
   "cell_type": "code",
   "execution_count": 52,
   "id": "ad25da02",
   "metadata": {},
   "outputs": [],
   "source": [
    "def displacement(total_force, eta=1, delta_t=1):\n",
    "    displacement = [f / eta * delta_t for f in total_force]\n",
    "    return displacement"
   ]
  },
  {
   "cell_type": "markdown",
   "id": "2ad8c5a9",
   "metadata": {},
   "source": [
    "## 2.4 Update the position of particles\n",
    "\n",
    "For each particle we need to update its position, so here a for loop is used to accumulate the displacement of each particle. But here a boundary condition needs to be added that the position of the particle always stays within (0,10)."
   ]
  },
  {
   "cell_type": "code",
   "execution_count": 53,
   "id": "a623c6a6",
   "metadata": {},
   "outputs": [],
   "source": [
    "def update_position(p, delta_r, min_x=0, max_x=10):\n",
    "    new_p = []\n",
    "    for i in range(len(p)):\n",
    "        new_xpos = p[i] + delta_r[i]\n",
    "        if new_xpos > max_x:\n",
    "            new_xpos = max_x\n",
    "        elif new_xpos < min_x:\n",
    "            new_xpos = min_x\n",
    "        new_p.append(new_xpos)\n",
    "    return new_p"
   ]
  },
  {
   "cell_type": "markdown",
   "id": "e76d1334",
   "metadata": {},
   "source": [
    "## 2.5 Main function\n",
    "\n",
    "                            \n",
    "By calculating the displacements at each time step and accumulating them through a for loop, we can obtain the final time displacements\n",
    "\n",
    "$$x(t_{i+1} )=x(t_i )+∆x(t_i )$$\n",
    "\n",
    "So ultimately, we can use this method to figure out how particles move over time.\n",
    "\n",
    "Here, we can string all the functions together in one main function and output the result:"
   ]
  },
  {
   "cell_type": "code",
   "execution_count": 61,
   "id": "f87f0fdc",
   "metadata": {},
   "outputs": [
    {
     "data": {
      "image/png": "[encoded data removed]",
      "text/plain": [
       "<Figure size 640x480 with 1 Axes>"
      ]
     },
     "metadata": {},
     "output_type": "display_data"
    },
    {
     "name": "stdout",
     "output_type": "stream",
     "text": [
      "P(0):  [0.31846480408982525, 1.2837236942357588, 2.824261461537926, 3.483892327332404, 4.407622204637107, 4.586067093870614, 6.64318734454616, 8.7786790373901, 8.797493185344203, 9.617911699198027]\n"
     ]
    },
    {
     "data": {
      "image/png": "[encoded data removed]",
      "text/plain": [
       "<Figure size 640x480 with 1 Axes>"
      ]
     },
     "metadata": {},
     "output_type": "display_data"
    },
    {
     "name": "stdout",
     "output_type": "stream",
     "text": [
      "P(200):  [0, 0.8323336708020489, 2.0255416770286656, 3.218261744643321, 4.410384072228611, 5.6018714552085385, 6.792755020641937, 7.9831217163839945, 9.173098542987779, 10]\n"
     ]
    }
   ],
   "source": [
    "%matplotlib inline\n",
    "\n",
    "def simulate(n, time_step, show_plot=True):\n",
    "    p = Initial_position(n)\n",
    "    update_plot(p)\n",
    "    print(\"P(0): \", p)\n",
    "    for i in range(time_step):\n",
    "        total_force = combined_force(p)\n",
    "        x_det = displacement(total_force, delta_t=0.1)\n",
    "        p = update_position(p, x_det)\n",
    "        xpos = p\n",
    "    update_plot(xpos)\n",
    "    print(\"P({}): \".format(time_step), p)\n",
    "    \n",
    "def update_plot(xpos):\n",
    "    plt.clf()\n",
    "    ypos = [0 for i in range(len(xpos))]\n",
    "    plt.plot(xpos, ypos, \"o\")\n",
    "    plt.xlim(left=-1, right=11)\n",
    "    plt.grid()\n",
    "    plt.draw()\n",
    "    plt.pause(0.0001)\n",
    "    \n",
    "simulate(10, 200, show_plot=True)"
   ]
  },
  {
   "cell_type": "markdown",
   "id": "c2913e71",
   "metadata": {},
   "source": [
    "We can see that after 1000 time steps the particles tend to stabilise and are regularly distributed on the x-axis."
   ]
  },
  {
   "cell_type": "markdown",
   "id": "1e0695c9",
   "metadata": {},
   "source": [
    "# 3. Full code\n",
    "\n",
    "Here is the full code for the 1D particle simulation, but I have modified the diagram output here so that we will be able to see the particles change a little bit with the time step. (These code need use matplotlib backend: Qt5Agg)"
   ]
  },
  {
   "cell_type": "code",
   "execution_count": 58,
   "id": "3ad9db1a",
   "metadata": {},
   "outputs": [
    {
     "name": "stdout",
     "output_type": "stream",
     "text": [
      "Using matplotlib backend: Qt5Agg\n",
      "P(0):  [0.31846480408982525, 1.2837236942357588, 2.824261461537926, 3.483892327332404, 4.407622204637107, 4.586067093870614, 6.64318734454616, 8.7786790373901, 8.797493185344203, 9.617911699198027]\n",
      "P(200):  [0, 0.8323336708020489, 2.0255416770286656, 3.218261744643321, 4.410384072228611, 5.6018714552085385, 6.792755020641937, 7.9831217163839945, 9.173098542987779, 10]\n"
     ]
    }
   ],
   "source": [
    "%matplotlib\n",
    "import matplotlib.pyplot as plt\n",
    "import random\n",
    "import math\n",
    "\n",
    "def Initial_position(n):\n",
    "    random.seed(40)\n",
    "    random_position = [random.uniform(0, 10) for _ in range(n)]\n",
    "    random_position.sort()\n",
    "    return random_position\n",
    "\n",
    "def plot(p):\n",
    "    plt.clf()\n",
    "    ypos = [0 for i in range(len(p))]\n",
    "    plt.plot(p, ypos, \"o\")\n",
    "    plt.grid()\n",
    "    plt.show()\n",
    "\n",
    "# Calculating the force between a pair of particles\n",
    "def force(r, c1=1, c2=1):\n",
    "    f = c1 * math.exp(-r / c2)\n",
    "    return f\n",
    "\n",
    "# Calculate the total force of repulsion for each particle\n",
    "def combined_force(p):\n",
    "    total_force = []\n",
    "    n = len(p)\n",
    "    for i in range(n):\n",
    "        fn_sum = 0\n",
    "        for j in range(n):\n",
    "            if j != i:\n",
    "                r = p[j] - p[i]\n",
    "                fn = -1 * force(abs(r)) * r / abs(r)\n",
    "                fn_sum += fn\n",
    "        total_force.append(fn_sum)\n",
    "    return total_force\n",
    "\n",
    "def displacement(total_force, eta=1, delta_t=1):\n",
    "    displacement = [f / eta * delta_t for f in total_force]\n",
    "    return displacement\n",
    "\n",
    "def update_position(p, delta_r, min_x=0, max_x=10):\n",
    "    new_p = []\n",
    "    for i in range(len(p)):\n",
    "        new_xpos = p[i] + delta_r[i]\n",
    "        if new_xpos > max_x:\n",
    "            new_xpos = max_x\n",
    "        elif new_xpos < min_x:\n",
    "            new_xpos = min_x\n",
    "        new_p.append(new_xpos)\n",
    "    return new_p\n",
    "\n",
    "def simulate(n, time_step, show_plot=True):\n",
    "    p = Initial_position(n)\n",
    "    update_plot(p)\n",
    "    print(\"P(0): \", p)\n",
    "    for i in range(time_step):\n",
    "        total_force = combined_force(p)\n",
    "        x_det = displacement(total_force, delta_t=0.1)\n",
    "        p = update_position(p, x_det)\n",
    "        xpos = p\n",
    "        if show_plot:\n",
    "            if i % 2 == 0:\n",
    "                update_plot(xpos)\n",
    "    print(\"P({}): \".format(time_step), p)\n",
    "    \n",
    "def update_plot(xpos):\n",
    "    plt.clf()\n",
    "    ypos = [0 for i in range(len(xpos))]\n",
    "    plt.plot(xpos, ypos, \"o\")\n",
    "    plt.xlim(left=-1, right=11)\n",
    "    plt.grid()\n",
    "    plt.draw()\n",
    "    plt.pause(0.0001)\n",
    "    \n",
    "simulate(10, 200, show_plot=True)"
   ]
  }
 ],
 "metadata": {
  "kernelspec": {
   "display_name": "Python 3 (ipykernel)",
   "language": "python",
   "name": "python3"
  },
  "language_info": {
   "codemirror_mode": {
    "name": "ipython",
    "version": 3
   },
   "file_extension": ".py",
   "mimetype": "text/x-python",
   "name": "python",
   "nbconvert_exporter": "python",
   "pygments_lexer": "ipython3",
   "version": "3.9.13"
  }
 },
 "nbformat": 4,
 "nbformat_minor": 5
}

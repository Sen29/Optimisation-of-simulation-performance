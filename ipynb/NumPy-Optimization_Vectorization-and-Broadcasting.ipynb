{
 "cells": [
  {
   "cell_type": "markdown",
   "id": "ffa282d5",
   "metadata": {},
   "source": [
    "<h1 style=\"text-align: center;\">NumPy Optimization: Vectorization and Broadcasting</h1>"
   ]
  },
  {
   "cell_type": "markdown",
   "id": "3e6e17ec",
   "metadata": {},
   "source": [
    "This paper focuses on the optimisation of particle motion models, so it is mainly concerned with vectorisation and broadcasting in numpy optimisation. There are of course many other Numpy optimisations, but I won't go into them here."
   ]
  },
  {
   "cell_type": "markdown",
   "id": "40497f75",
   "metadata": {},
   "source": [
    "## python loop\n",
    "\n",
    "Suppose the code contains a looping section for a list, and since python is dynamically typed, this means that it doesn't know what types of objects are present in the list (whether integers, strings or floats).\n",
    "\n",
    "As a result, Python must perform a series of checks at each iteration, such as determining the type of a variable, resolving its scope, checking for any invalid operations, etc. This causes Python loops to be relatively slow. \n",
    "\n",
    "If we compare with C. In C, arrays are allowed to consist of only one data type, which the compiler knows about in advance.\n",
    "\n",
    "Of course there are many reasons why Python loops are relatively slow, but this is one of the main ones.\n"
   ]
  },
  {
   "cell_type": "markdown",
   "id": "8f036f81",
   "metadata": {},
   "source": [
    "## Vectorization"
   ]
  },
  {
   "cell_type": "markdown",
   "id": "2fd53667",
   "metadata": {},
   "source": [
    "In fact, most of the functions called in Python using NumPy are simply wrappers around the underlying code in C, where most of the heavy lifting happens. We can take advantage of this to speed up our code.\n",
    "\n",
    "NumPy allows arrays to have only a single datatype and to store the data internally in contiguous blocks of memory, which allows NumPy to delegate most of the operations on such arrays to the underlying optimised pre-compiled C code. If NumPy could move the execution of loops to C, this would be much more efficient."
   ]
  },
  {
   "cell_type": "markdown",
   "id": "582ab6d0",
   "metadata": {},
   "source": [
    "For example, for list_a and list_b below, suppose we need to multiply their corresponding elements, so there is a for loop here."
   ]
  },
  {
   "cell_type": "code",
   "execution_count": 1,
   "id": "9f7c632f",
   "metadata": {},
   "outputs": [],
   "source": [
    "list_a = [2,4,6,8,10,12,14,16,18,20]\n",
    "list_b = [1,3,5,7,9,11,13,15,17,19]"
   ]
  },
  {
   "cell_type": "code",
   "execution_count": 2,
   "id": "7bc06dc3",
   "metadata": {},
   "outputs": [],
   "source": [
    "def multiply_py(list_a, list_b):\n",
    "    for i in range(len(list_a)):\n",
    "        list_a[i] * list_b[i]"
   ]
  },
  {
   "cell_type": "markdown",
   "id": "0dd444b9",
   "metadata": {},
   "source": [
    "Then the speed at which this function is run 100000 times and repeated 5 times each time is:"
   ]
  },
  {
   "cell_type": "code",
   "execution_count": 3,
   "id": "2bb1fe55",
   "metadata": {},
   "outputs": [
    {
     "name": "stdout",
     "output_type": "stream",
     "text": [
      "1.2 µs ± 117 ns per loop (mean ± std. dev. of 5 runs, 100000 loops each)\n"
     ]
    }
   ],
   "source": [
    "%timeit -n 100000 -r 5 multiply_py(list_a, list_b)"
   ]
  },
  {
   "cell_type": "markdown",
   "id": "b62fd854",
   "metadata": {},
   "source": [
    "However, if use NumPy arrays, we don't need to write a loop, as shown below."
   ]
  },
  {
   "cell_type": "code",
   "execution_count": 4,
   "id": "4d800fa2",
   "metadata": {},
   "outputs": [],
   "source": [
    "import numpy as np\n",
    "\n",
    "arr_a = np.array(list_a)\n",
    "arr_b = np.array(list_b)\n",
    "\n",
    "def multiply_np(arr_a, arr_b):\n",
    "    arr_a * arr_b"
   ]
  },
  {
   "cell_type": "code",
   "execution_count": 5,
   "id": "b954937e",
   "metadata": {},
   "outputs": [
    {
     "name": "stdout",
     "output_type": "stream",
     "text": [
      "612 ns ± 38.5 ns per loop (mean ± std. dev. of 5 runs, 100000 loops each)\n"
     ]
    }
   ],
   "source": [
    "%timeit -n 100000 -r 5 multiply_np(arr_a, arr_b)"
   ]
  },
  {
   "cell_type": "markdown",
   "id": "501a3301",
   "metadata": {},
   "source": [
    "We can see that the multiply_np function is much faster.\n",
    "\n",
    "Notice this can be only done as the array enforces the elements of the array to be of the same kind. Otherwise, it would not be possible to convert the Python data types to native C ones to be executed under the hood."
   ]
  },
  {
   "cell_type": "markdown",
   "id": "5aefaf41",
   "metadata": {},
   "source": [
    "## Broadcasting"
   ]
  },
  {
   "cell_type": "markdown",
   "id": "f60eb9dc",
   "metadata": {},
   "source": [
    "### Concept\n",
    "\n",
    "Broadcasting can help us vectorise loops of arrays of dissimilar sizes.\n",
    "\n",
    "Take the following equation as an example.\n",
    "\n",
    "arr_1 is a matrix containing 3 rows and 4 columns, suppose I want to make each column in arr_1 plus a column vector."
   ]
  },
  {
   "cell_type": "markdown",
   "id": "f6da024f",
   "metadata": {},
   "source": [
    "$$\\begin{bmatrix}\n",
    "0&1&2&3\\\\\n",
    "4&5&6&7\\\\\n",
    "8&9&10&11\\\\\n",
    "\\end{bmatrix}\n",
    "+\n",
    "\\begin{bmatrix}\n",
    "5\\\\\n",
    "6\\\\\n",
    "7\\\\\n",
    "\\end{bmatrix}\n",
    "=\n",
    "\\begin{bmatrix}\n",
    "5&6&7&8\\\\\n",
    "10&11&12&13\\\\\n",
    "15&16&17&18\\\\\n",
    "\\end{bmatrix}\n",
    "$$"
   ]
  },
  {
   "cell_type": "markdown",
   "id": "64cee7cd",
   "metadata": {},
   "source": [
    "We translate it into code. As below, we need to follow the shape of arr_1 and do 4 loops to add arr_2 to each of its columns. This will make it inefficient due to the presence of loops."
   ]
  },
  {
   "cell_type": "code",
   "execution_count": 6,
   "id": "9b5d7934",
   "metadata": {},
   "outputs": [
    {
     "data": {
      "text/plain": [
       "array([[ 5,  6,  7,  8],\n",
       "       [10, 11, 12, 13],\n",
       "       [15, 16, 17, 18]])"
      ]
     },
     "execution_count": 6,
     "metadata": {},
     "output_type": "execute_result"
    }
   ],
   "source": [
    "arr_1 = np.arange(12).reshape(3,4)\n",
    "arr_2 = np.array([5,6,7])\n",
    "\n",
    "def add_py(arr_1,arr_2):\n",
    "    num_columns = arr_1.shape[1]\n",
    "    for i in range(num_columns):\n",
    "        arr_1[:, i] += arr_2\n",
    "    return arr_1\n",
    "\n",
    "add_py(arr_1,arr_2)"
   ]
  },
  {
   "cell_type": "code",
   "execution_count": 7,
   "id": "b2508b8e",
   "metadata": {},
   "outputs": [
    {
     "name": "stdout",
     "output_type": "stream",
     "text": [
      "6.8 µs ± 272 ns per loop (mean ± std. dev. of 5 runs, 100000 loops each)\n"
     ]
    }
   ],
   "source": [
    "%timeit -n 100000 -r 5 add_py(arr_1,arr_2)"
   ]
  },
  {
   "cell_type": "markdown",
   "id": "077293b1",
   "metadata": {},
   "source": [
    "We can make a matrix with the same size and the same columns as the original array, so that each column can be added at the same time to avoid loops.\n",
    "\n",
    "$$\\begin{bmatrix}\n",
    "0&1&2&3\\\\\n",
    "4&5&6&7\\\\\n",
    "8&9&10&11\\\\\n",
    "\\end{bmatrix}\n",
    "+\n",
    "\\begin{bmatrix}\n",
    "5&5&5&5\\\\\n",
    "6&6&6&6\\\\\n",
    "7&7&7&7\\\\\n",
    "\\end{bmatrix}\n",
    "=\n",
    "\\begin{bmatrix}\n",
    "5&6&7&8\\\\\n",
    "10&11&12&13\\\\\n",
    "15&16&17&18\\\\\n",
    "\\end{bmatrix}\n",
    "$$"
   ]
  },
  {
   "cell_type": "code",
   "execution_count": 8,
   "id": "0813e97e",
   "metadata": {},
   "outputs": [
    {
     "data": {
      "text/plain": [
       "array([[ 5,  6,  7,  8],\n",
       "       [10, 11, 12, 13],\n",
       "       [15, 16, 17, 18]])"
      ]
     },
     "execution_count": 8,
     "metadata": {},
     "output_type": "execute_result"
    }
   ],
   "source": [
    "arr_1 = np.arange(12).reshape(3,4)\n",
    "arr_2 = np.array([5,6,7])\n",
    "\n",
    "def add_np(arr_1,arr_2):\n",
    "    num_columns = arr_1.shape[1]\n",
    "    add_matrix = np.array([arr_2,] * num_columns).T\n",
    "    arr_1 += add_matrix\n",
    "    return arr_1\n",
    "\n",
    "add_np(arr_1,arr_2)"
   ]
  },
  {
   "cell_type": "code",
   "execution_count": 9,
   "id": "b4eae1ce",
   "metadata": {},
   "outputs": [
    {
     "name": "stdout",
     "output_type": "stream",
     "text": [
      "4 µs ± 86.3 ns per loop (mean ± std. dev. of 5 runs, 100000 loops each)\n"
     ]
    }
   ],
   "source": [
    "%timeit -n 100000 -r 5 add_np(arr_1,arr_2)"
   ]
  },
  {
   "cell_type": "markdown",
   "id": "08dcf39f",
   "metadata": {},
   "source": [
    "### Rules of Broadcasting\n",
    "\n",
    "This involves an important definition: the rank of the array in NumPy. The rank is the total number of dimensions of a NumPy array. For example, an array of shape (3, 4) has a rank of 2, and an array of shape (3, 4, 3) has a rank of 3.\n",
    "\n",
    "1. To deem which two arrays are suitable for operations, NumPy compares the shape of the two arrays dimension-by-dimension starting from the trailing dimensions of the arrays working it's way forward.  (from right to left)\n",
    "\n",
    "\n",
    "2. Two dimensions are said to be compatible if both of them are equal, or either one of them is 1.\n",
    "\n",
    "\n",
    "3. If both the dimensions are unequal and neither of them is 1, then NumPy will throw an error and halt."
   ]
  },
  {
   "cell_type": "markdown",
   "id": "57e1970d",
   "metadata": {},
   "source": [
    "#### Arrays with Equal Ranks"
   ]
  },
  {
   "cell_type": "markdown",
   "id": "7860e378",
   "metadata": {},
   "source": [
    "For the following two cases we can try with code.\n",
    "\n",
    "![图片描述](image_folder/ArrayswithEqualRanks_1.png)"
   ]
  },
  {
   "cell_type": "markdown",
   "id": "e031325b",
   "metadata": {},
   "source": [
    "For the case on the left, it goes through without throwing an error."
   ]
  },
  {
   "cell_type": "code",
   "execution_count": 11,
   "id": "0bb09072",
   "metadata": {},
   "outputs": [],
   "source": [
    "arr_a = np.random.rand(3,4,6,2) # random array of shape (3,4,6,2)\n",
    "arr_b = np.random.rand(3, 4, 1, 2) \n",
    "\n",
    "arr_a + arr_b"
   ]
  },
  {
   "cell_type": "markdown",
   "id": "d68acd8b",
   "metadata": {},
   "source": [
    "For the case on the right, it throws an error."
   ]
  },
  {
   "cell_type": "code",
   "execution_count": 21,
   "id": "8fdce3f4",
   "metadata": {},
   "outputs": [],
   "source": [
    "arr_a = np.random.rand(3, 4, 6, 2) # random array of shape (3,4,6,2)\n",
    "arr_b = np.random.rand(3, 5, 1, 2)\n",
    "\n",
    "arr_a + arr_b"
   ]
  },
  {
   "cell_type": "markdown",
   "id": "b3aa5c39",
   "metadata": {},
   "source": [
    "#### Arrays with Unequal Ranks"
   ]
  },
  {
   "cell_type": "markdown",
   "id": "4168c2d4",
   "metadata": {},
   "source": [
    "For the following three cases.\n",
    "\n",
    "\n",
    "![图片描述](image_folder/ArrayswithUnequalRanks_1.png)"
   ]
  },
  {
   "cell_type": "markdown",
   "id": "602f11f8",
   "metadata": {},
   "source": [
    "In order to compare two such arrays, Numpy appends forward dimensions of size 1 to the smaller array so that it has a rank equal to the larger array. So all the comparisons above can be treated as (this is just a way to visualize what NumPy is doing, there is no appending internally):\n",
    "\n",
    "![图片描述](image_folder/ArrayswithUnequalRanks_2.png)"
   ]
  },
  {
   "cell_type": "markdown",
   "id": "afa49ea1",
   "metadata": {},
   "source": [
    "## Optimisation of particle motion models"
   ]
  },
  {
   "cell_type": "markdown",
   "id": "d7aabea0",
   "metadata": {},
   "source": [
    "### An overview of this code"
   ]
  },
  {
   "cell_type": "markdown",
   "id": "4d9fc1d8",
   "metadata": {},
   "source": [
    "Firstly, I need to reintroduce our original python code again."
   ]
  },
  {
   "cell_type": "code",
   "execution_count": 27,
   "id": "71fdce48",
   "metadata": {},
   "outputs": [],
   "source": [
    "import numpy as np\n",
    "\n",
    "def simulation_py(n, iterations):\n",
    "    p = particle_initial_position(n)\n",
    "#    n = len(p)  # number of particles\n",
    "    for _ in range(iterations):\n",
    "        fs = np.zeros(shape=(n, 2))  # forces from all other particles\n",
    "        \n",
    "        for i in range(n):\n",
    "            for j in range(n):\n",
    "                if i != j:\n",
    "                    r = p[j] - p[i]   #distence between particles,it's a vector.\n",
    "                    dist = np.sqrt(np.sum(r**2))   #Converting distances to scalars\n",
    "                    \n",
    "                    with np.errstate(invalid='ignore'):\n",
    "                        unit_vector_nan = r / dist    #unit vector,it's direction.\n",
    "                    unit_vector = np.nan_to_num(unit_vector_nan)\n",
    "                    \n",
    "                    epsilon = 1  # parameter of LJ-potential\n",
    "                    sigma = 0.1  # parameter of LJ-potential\n",
    "                    \n",
    "                    #Bringing the distance (scalar) and the parameters into the LJ equation gives the magnitude of the force (scalar)\n",
    "                    with np.errstate(invalid='ignore'):\n",
    "                        force_nan = 48 * epsilon * np.power(sigma, 12) / np.power(dist, 13) - 24 * epsilon * np.power(sigma, 6) / np.power(dist, 7)\n",
    "                    force = np.nan_to_num(force_nan)\n",
    "                    \n",
    "                    fs[i] += -force * unit_vector    #Converting forces into vectors\n",
    "\n",
    "        x_delta = fs / 1 * 0.00001    #Bring the force(vector) into the displacement equation and calculate the displacement(vector).\n",
    "\n",
    "        p += x_delta    #update the position of particles\n",
    "\n",
    "#    print(\"P({}):\\n\".format(iterations), p)   #plot finally result\n",
    "\n",
    "    return p"
   ]
  },
  {
   "cell_type": "markdown",
   "id": "f7ffdd27",
   "metadata": {},
   "source": [
    "We do a number of things here. \n",
    "\n",
    "First, the coordinates of the particles are subtracted one by one to find the distance between the particles \"r\" (vector), which is then converted to a scalar \"dist\" and decomposed into a direction vector \"unit_vector\".\n",
    "\n",
    "Then, we take the \"dist\" into the LJ equation to find the magnitude of the force \"force\", and multiply the force by the direction vector \"unit_vector\" to convert it into a vector. \n",
    "\n",
    "Finally, we take this force into the displacement equation to find the displacement, and finally use it to update the original coordinates to get the new position of the particle after Δt time."
   ]
  },
  {
   "cell_type": "markdown",
   "id": "25ed9ac1",
   "metadata": {},
   "source": [
    "We give it an input: 50 particles and 100 iterations, and finally calculate its execution time:"
   ]
  },
  {
   "cell_type": "code",
   "execution_count": 28,
   "id": "43cc44fd",
   "metadata": {},
   "outputs": [],
   "source": [
    "import timeit\n",
    "\n",
    "# Generate n initial random particles\n",
    "def particle_initial_position(n):\n",
    "    np.random.seed(0)\n",
    "    p = np.random.rand(n, 2)\n",
    "    for i in range(n):\n",
    "        while True:\n",
    "            conflict = False\n",
    "            for j in range(i):\n",
    "                distance = np.linalg.norm(p[i] - p[j])\n",
    "                if distance <= 0.1:\n",
    "                    conflict = True\n",
    "                    break\n",
    "            if not conflict:\n",
    "                break\n",
    "            p[i] = np.random.rand(2)\n",
    "    return p"
   ]
  },
  {
   "cell_type": "code",
   "execution_count": 29,
   "id": "2d61a21a",
   "metadata": {},
   "outputs": [
    {
     "name": "stdout",
     "output_type": "stream",
     "text": [
      "simulate_py execution time: 23.53331849999995\n"
     ]
    }
   ],
   "source": [
    "import timeit\n",
    "compute_time_py = timeit.timeit(lambda: simulation_py(50, 100), number=1)\n",
    "print(\"simulate_py execution time:\", compute_time_py)"
   ]
  },
  {
   "cell_type": "markdown",
   "id": "473dffeb",
   "metadata": {},
   "source": [
    "### Optimisation methods"
   ]
  },
  {
   "cell_type": "markdown",
   "id": "76253f9f",
   "metadata": {},
   "source": [
    "In this process we use a For loop, because we need to go through the elements of the particle coordinate matrix to find the distance between the coordinates, and then use the distance to calculate the force and displacement afterwards.\n",
    "\n",
    "For example, we assume that there are 3 particles P1, P2, P3 and their coordinates are P1(3, 5), P2(2, 4), P3(7, 6).\n",
    "\n",
    "$$\\begin{bmatrix}\n",
    "(3&5)\\\\\n",
    "(2&4)\\\\\n",
    "(7&6)\\\\\n",
    "\\end{bmatrix}$$"
   ]
  },
  {
   "cell_type": "code",
   "execution_count": 31,
   "id": "5b152436",
   "metadata": {},
   "outputs": [
    {
     "data": {
      "text/plain": [
       "array([[3., 5.],\n",
       "       [2., 4.],\n",
       "       [7., 6.]])"
      ]
     },
     "execution_count": 31,
     "metadata": {},
     "output_type": "execute_result"
    }
   ],
   "source": [
    "def fixed_position():\n",
    "    p = np.array([[3, 5], [2, 4], [7, 6]], dtype=np.float64)\n",
    "    return p\n",
    "\n",
    "fixed_position()"
   ]
  },
  {
   "cell_type": "markdown",
   "id": "bb27d567",
   "metadata": {},
   "source": [
    "Firstly, for the first level of the loop we need to do this:\n",
    "\n",
    "The distance from P1 to P1:\n",
    "$$\\begin{bmatrix}\n",
    "(3&5)\\\\\n",
    "\\end{bmatrix}-\\begin{bmatrix}\n",
    "(3&5)\\\\\n",
    "\\end{bmatrix}=\\begin{bmatrix}\n",
    "(0&0)\\\\\n",
    "\\end{bmatrix}$$\n",
    "\n",
    "The distance from P1 to P2:\n",
    "$$\\begin{bmatrix}\n",
    "(3&5)\\\\\n",
    "\\end{bmatrix}-\\begin{bmatrix}\n",
    "(2&4)\\\\\n",
    "\\end{bmatrix}=\\begin{bmatrix}\n",
    "(1&1)\\\\\n",
    "\\end{bmatrix}$$\n",
    "\n",
    "The distance from P1 to P3:\n",
    "$$\\begin{bmatrix}\n",
    "(3&5)\\\\\n",
    "\\end{bmatrix}-\\begin{bmatrix}\n",
    "(7&6)\\\\\n",
    "\\end{bmatrix}=\\begin{bmatrix}\n",
    "(-4&-1)\\\\\n",
    "\\end{bmatrix}$$\n",
    "\n",
    "But we can use Numpy's \"broadcasting\" to put this process into one matrix and compute it at the same time, which eliminates this layer of loop and makes it more performant. Like this:\n",
    "$$\\begin{bmatrix}\n",
    "(3&5)\\\\\n",
    "\\end{bmatrix}-\\begin{bmatrix}\n",
    "(3&5)\\\\\n",
    "(2&4)\\\\\n",
    "(7&6)\\\\\n",
    "\\end{bmatrix}=\\begin{bmatrix}\n",
    "(0&0)\\\\\n",
    "(1&1)\\\\\n",
    "(-4&-1)\\\\\n",
    "\\end{bmatrix}$$"
   ]
  },
  {
   "cell_type": "markdown",
   "id": "ea7dd09b",
   "metadata": {},
   "source": [
    "By the same principle, we can put the distances of the other particles to P1, P2 and P3 in the same matrix as follows:\n",
    "\n",
    "![图片描述](image_folder/loopmatrixs_1.png)\n",
    "\n",
    "then, we split it and it became:\n",
    "\n",
    "![图片描述](image_folder/loopmatrixs_2.png)"
   ]
  },
  {
   "cell_type": "markdown",
   "id": "13364d84",
   "metadata": {},
   "source": [
    "In the code, we add a dimension to the original `r = p[j] - p[i]`, changing it to `rvs = (p[:, np.newaxis, :] - p[np.newaxis, :, :])`. So, the subsequent calculations are carried out as usual using this matrix with one more dimension, until we calculate the combined force, we need to add together the partial forces in the matrix `f_i = fs.sum(axis=1)`.\n",
    "\n",
    "The modified code is as follows:"
   ]
  },
  {
   "cell_type": "code",
   "execution_count": 40,
   "id": "494cab04",
   "metadata": {},
   "outputs": [],
   "source": [
    "np.seterr(divide='ignore', invalid='ignore')\n",
    "\n",
    "def simulate_np(n, iterations):\n",
    "    p = particle_initial_position(n)\n",
    "    for _ in range(iterations):\n",
    "        rvs = (p[:, np.newaxis, :] - p[np.newaxis, :, :])   #distence between particles,it's a vector.\n",
    "        dist = np.sqrt(np.sum(rvs**2, axis=-1))    #Converting distances to scalars\n",
    "        fs = np.zeros(shape=(n, 2))  # forces from all other particles\n",
    "\n",
    "        dist_i = dist[:, :]\n",
    "        rvs_i = rvs[:, :, :]\n",
    "\n",
    "        with np.errstate(invalid='ignore'):\n",
    "            unit_vectors_nan = rvs_i / dist_i[:, :, np.newaxis]\n",
    "        unit_vectors = np.nan_to_num(unit_vectors_nan)\n",
    "\n",
    "        dist_new = dist_i[:, :, np.newaxis]\n",
    "        epsilon = 1  # parameter of LJ-potential\n",
    "        sigma = 0.1  # parameter of LJ-potential\n",
    "        with np.errstate(invalid='ignore'):\n",
    "            fs_nan = 48 * epsilon * np.power(sigma, 12) / np.power(dist_new, 13)-24 * epsilon * np.power(sigma, 6) / np.power(dist_new, 7)\n",
    "        fs = np.nan_to_num(fs_nan)*unit_vectors\n",
    "                \n",
    "        f_i = fs.sum(axis=1)\n",
    "        x_delta = f_i / 1 * 0.00001\n",
    "        \n",
    "        p += x_delta    #update the position of particles\n",
    "\n",
    "    #print(\"P({}):\\n\".format(iterations), p)    # plot finally result\n",
    "    return p"
   ]
  },
  {
   "cell_type": "markdown",
   "id": "44a95bea",
   "metadata": {},
   "source": [
    "We give it an input: 50 particles and 100 iterations, and finally calculate its execution time:"
   ]
  },
  {
   "cell_type": "code",
   "execution_count": 41,
   "id": "6a0d40a2",
   "metadata": {},
   "outputs": [
    {
     "name": "stdout",
     "output_type": "stream",
     "text": [
      "simulate_np execution time: 0.09211789999972098\n"
     ]
    }
   ],
   "source": [
    "compute_time_np = timeit.timeit(lambda: simulate_np(50, 100), number=1)\n",
    "\n",
    "print(\"simulate_np execution time:\", compute_time_np)"
   ]
  },
  {
   "cell_type": "markdown",
   "id": "dbdb6ebf",
   "metadata": {},
   "source": [
    "### Performance-comparison\n",
    "\n",
    "Finally, let's create a table to compare how much the speed has increased."
   ]
  },
  {
   "cell_type": "code",
   "execution_count": 42,
   "id": "8e14f1ee",
   "metadata": {},
   "outputs": [
    {
     "data": {
      "text/html": [
       "<style type=\"text/css\">\n",
       "#T_05d2d table {\n",
       "  border-collapse: collapse;\n",
       "}\n",
       "#T_05d2d th {\n",
       "  border: 1px solid black;\n",
       "}\n",
       "#T_05d2d  td {\n",
       "  border: 1px solid black;\n",
       "}\n",
       "#T_05d2d_row0_col0, #T_05d2d_row0_col1, #T_05d2d_row0_col2, #T_05d2d_row1_col0, #T_05d2d_row1_col1, #T_05d2d_row1_col2 {\n",
       "  border: 1px solid black;\n",
       "}\n",
       "</style>\n",
       "<table id=\"T_05d2d\">\n",
       "  <thead>\n",
       "    <tr>\n",
       "      <th class=\"blank level0\" >&nbsp;</th>\n",
       "      <th id=\"T_05d2d_level0_col0\" class=\"col_heading level0 col0\" >Methods</th>\n",
       "      <th id=\"T_05d2d_level0_col1\" class=\"col_heading level0 col1\" >Excution time(s)</th>\n",
       "      <th id=\"T_05d2d_level0_col2\" class=\"col_heading level0 col2\" >Speed up</th>\n",
       "    </tr>\n",
       "  </thead>\n",
       "  <tbody>\n",
       "    <tr>\n",
       "      <th id=\"T_05d2d_level0_row0\" class=\"row_heading level0 row0\" >0</th>\n",
       "      <td id=\"T_05d2d_row0_col0\" class=\"data row0 col0\" >Python</td>\n",
       "      <td id=\"T_05d2d_row0_col1\" class=\"data row0 col1\" >23.533318</td>\n",
       "      <td id=\"T_05d2d_row0_col2\" class=\"data row0 col2\" >1.000000</td>\n",
       "    </tr>\n",
       "    <tr>\n",
       "      <th id=\"T_05d2d_level0_row1\" class=\"row_heading level0 row1\" >1</th>\n",
       "      <td id=\"T_05d2d_row1_col0\" class=\"data row1 col0\" >Numpy</td>\n",
       "      <td id=\"T_05d2d_row1_col1\" class=\"data row1 col1\" >0.092118</td>\n",
       "      <td id=\"T_05d2d_row1_col2\" class=\"data row1 col2\" >255.469550</td>\n",
       "    </tr>\n",
       "  </tbody>\n",
       "</table>\n"
      ],
      "text/plain": [
       "<IPython.core.display.HTML object>"
      ]
     },
     "execution_count": 42,
     "metadata": {},
     "output_type": "execute_result"
    }
   ],
   "source": [
    "import pandas as pd\n",
    "from IPython.display import HTML\n",
    "\n",
    "data = {\n",
    "    'Methods': ['Python', 'Numpy'],\n",
    "    'Excution time(s)': [compute_time_py, compute_time_np],\n",
    "    'Speed up': [1, compute_time_py/compute_time_np]\n",
    "}\n",
    "df = pd.DataFrame(data)\n",
    "\n",
    "# Creating style functions\n",
    "def add_border(val):\n",
    "    return 'border: 1px solid black'\n",
    "\n",
    "# Applying style functions to data boxes\n",
    "styled_df = df.style.applymap(add_border)\n",
    "\n",
    "# Defining CSS styles\n",
    "table_style = [\n",
    "    {'selector': 'table', 'props': [('border-collapse', 'collapse')]},\n",
    "    {'selector': 'th, td', 'props': [('border', '1px solid black')]}\n",
    "]\n",
    "\n",
    "# Adding styles to stylised data boxes\n",
    "styled_df.set_table_styles(table_style)\n",
    "\n",
    "# Displaying stylised data boxes in Jupyter Notebook\n",
    "HTML(styled_df.to_html())"
   ]
  }
 ],
 "metadata": {
  "kernelspec": {
   "display_name": "Python 3 (ipykernel)",
   "language": "python",
   "name": "python3"
  },
  "language_info": {
   "codemirror_mode": {
    "name": "ipython",
    "version": 3
   },
   "file_extension": ".py",
   "mimetype": "text/x-python",
   "name": "python",
   "nbconvert_exporter": "python",
   "pygments_lexer": "ipython3",
   "version": "3.9.13"
  },
  "toc": {
   "base_numbering": 1,
   "nav_menu": {},
   "number_sections": true,
   "sideBar": true,
   "skip_h1_title": false,
   "title_cell": "Table of Contents",
   "title_sidebar": "Contents",
   "toc_cell": false,
   "toc_position": {
    "height": "751px",
    "left": "43px",
    "top": "111.125px",
    "width": "390px"
   },
   "toc_section_display": true,
   "toc_window_display": true
  }
 },
 "nbformat": 4,
 "nbformat_minor": 5
}
